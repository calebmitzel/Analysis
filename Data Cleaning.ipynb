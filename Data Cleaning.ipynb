{
 "cells": [
  {
   "cell_type": "code",
   "execution_count": 1,
   "id": "55544a5b-5c0a-43ea-aaef-1fe8a48aab9a",
   "metadata": {
    "tags": []
   },
   "outputs": [],
   "source": [
    "# Imports all packages necessary or useful\n",
    "\n",
    "import math\n",
    "import statistics\n",
    "import pandas as pd\n",
    "import numpy as np\n",
    "import scipy.stats as stats\n",
    "import matplotlib.pyplot as plt\n",
    "import seaborn as sns"
   ]
  },
  {
   "cell_type": "code",
   "execution_count": 2,
   "id": "15403521-93ff-46b9-a1c4-e46169f8a3ad",
   "metadata": {
    "tags": []
   },
   "outputs": [],
   "source": [
    "# Loads medical_raw_data csv\n",
    "\n",
    "df = pd.read_csv(r\"C:\\Users\\caleb\\OneDrive\\Desktop\\WGU\\D206 - Data Cleaning\\medical_raw_data.csv\")"
   ]
  },
  {
   "cell_type": "code",
   "execution_count": 3,
   "id": "755bf922-5e86-45dd-80e6-133e50efb011",
   "metadata": {
    "tags": []
   },
   "outputs": [
    {
     "name": "stdout",
     "output_type": "stream",
     "text": [
      "<class 'pandas.core.frame.DataFrame'>\n",
      "RangeIndex: 10000 entries, 0 to 9999\n",
      "Data columns (total 53 columns):\n",
      " #   Column              Non-Null Count  Dtype  \n",
      "---  ------              --------------  -----  \n",
      " 0   Unnamed: 0          10000 non-null  int64  \n",
      " 1   CaseOrder           10000 non-null  int64  \n",
      " 2   Customer_id         10000 non-null  object \n",
      " 3   Interaction         10000 non-null  object \n",
      " 4   UID                 10000 non-null  object \n",
      " 5   City                10000 non-null  object \n",
      " 6   State               10000 non-null  object \n",
      " 7   County              10000 non-null  object \n",
      " 8   Zip                 10000 non-null  int64  \n",
      " 9   Lat                 10000 non-null  float64\n",
      " 10  Lng                 10000 non-null  float64\n",
      " 11  Population          10000 non-null  int64  \n",
      " 12  Area                10000 non-null  object \n",
      " 13  Timezone            10000 non-null  object \n",
      " 14  Job                 10000 non-null  object \n",
      " 15  Children            7412 non-null   float64\n",
      " 16  Age                 7586 non-null   float64\n",
      " 17  Education           10000 non-null  object \n",
      " 18  Employment          10000 non-null  object \n",
      " 19  Income              7536 non-null   float64\n",
      " 20  Marital             10000 non-null  object \n",
      " 21  Gender              10000 non-null  object \n",
      " 22  ReAdmis             10000 non-null  object \n",
      " 23  VitD_levels         10000 non-null  float64\n",
      " 24  Doc_visits          10000 non-null  int64  \n",
      " 25  Full_meals_eaten    10000 non-null  int64  \n",
      " 26  VitD_supp           10000 non-null  int64  \n",
      " 27  Soft_drink          7533 non-null   object \n",
      " 28  Initial_admin       10000 non-null  object \n",
      " 29  HighBlood           10000 non-null  object \n",
      " 30  Stroke              10000 non-null  object \n",
      " 31  Complication_risk   10000 non-null  object \n",
      " 32  Overweight          9018 non-null   float64\n",
      " 33  Arthritis           10000 non-null  object \n",
      " 34  Diabetes            10000 non-null  object \n",
      " 35  Hyperlipidemia      10000 non-null  object \n",
      " 36  BackPain            10000 non-null  object \n",
      " 37  Anxiety             9016 non-null   float64\n",
      " 38  Allergic_rhinitis   10000 non-null  object \n",
      " 39  Reflux_esophagitis  10000 non-null  object \n",
      " 40  Asthma              10000 non-null  object \n",
      " 41  Services            10000 non-null  object \n",
      " 42  Initial_days        8944 non-null   float64\n",
      " 43  TotalCharge         10000 non-null  float64\n",
      " 44  Additional_charges  10000 non-null  float64\n",
      " 45  Item1               10000 non-null  int64  \n",
      " 46  Item2               10000 non-null  int64  \n",
      " 47  Item3               10000 non-null  int64  \n",
      " 48  Item4               10000 non-null  int64  \n",
      " 49  Item5               10000 non-null  int64  \n",
      " 50  Item6               10000 non-null  int64  \n",
      " 51  Item7               10000 non-null  int64  \n",
      " 52  Item8               10000 non-null  int64  \n",
      "dtypes: float64(11), int64(15), object(27)\n",
      "memory usage: 4.0+ MB\n"
     ]
    }
   ],
   "source": [
    "# Profiles our data and gives us a snapshot of variables and associated data types in our data set\n",
    "# We can appreciate 53 columns (including an unnamed placeholder value) and 10,000 observations for most variables\n",
    "\n",
    "df.info()"
   ]
  },
  {
   "cell_type": "code",
   "execution_count": 4,
   "id": "318258e8-e0fe-49cf-8278-0343613f604d",
   "metadata": {
    "tags": []
   },
   "outputs": [
    {
     "data": {
      "text/html": [
       "<div>\n",
       "<style scoped>\n",
       "    .dataframe tbody tr th:only-of-type {\n",
       "        vertical-align: middle;\n",
       "    }\n",
       "\n",
       "    .dataframe tbody tr th {\n",
       "        vertical-align: top;\n",
       "    }\n",
       "\n",
       "    .dataframe thead th {\n",
       "        text-align: right;\n",
       "    }\n",
       "</style>\n",
       "<table border=\"1\" class=\"dataframe\">\n",
       "  <thead>\n",
       "    <tr style=\"text-align: right;\">\n",
       "      <th></th>\n",
       "      <th>Unnamed: 0</th>\n",
       "      <th>CaseOrder</th>\n",
       "      <th>Customer_id</th>\n",
       "      <th>Interaction</th>\n",
       "      <th>UID</th>\n",
       "      <th>City</th>\n",
       "      <th>State</th>\n",
       "      <th>County</th>\n",
       "      <th>Zip</th>\n",
       "      <th>Lat</th>\n",
       "      <th>Lng</th>\n",
       "      <th>Population</th>\n",
       "      <th>Area</th>\n",
       "      <th>Timezone</th>\n",
       "      <th>Job</th>\n",
       "      <th>Children</th>\n",
       "      <th>Age</th>\n",
       "      <th>Education</th>\n",
       "      <th>Employment</th>\n",
       "      <th>Income</th>\n",
       "      <th>Marital</th>\n",
       "      <th>Gender</th>\n",
       "      <th>ReAdmis</th>\n",
       "      <th>VitD_levels</th>\n",
       "      <th>Doc_visits</th>\n",
       "      <th>Full_meals_eaten</th>\n",
       "      <th>VitD_supp</th>\n",
       "      <th>Soft_drink</th>\n",
       "      <th>Initial_admin</th>\n",
       "      <th>HighBlood</th>\n",
       "      <th>Stroke</th>\n",
       "      <th>Complication_risk</th>\n",
       "      <th>Overweight</th>\n",
       "      <th>Arthritis</th>\n",
       "      <th>Diabetes</th>\n",
       "      <th>Hyperlipidemia</th>\n",
       "      <th>BackPain</th>\n",
       "      <th>Anxiety</th>\n",
       "      <th>Allergic_rhinitis</th>\n",
       "      <th>Reflux_esophagitis</th>\n",
       "      <th>Asthma</th>\n",
       "      <th>Services</th>\n",
       "      <th>Initial_days</th>\n",
       "      <th>TotalCharge</th>\n",
       "      <th>Additional_charges</th>\n",
       "      <th>Item1</th>\n",
       "      <th>Item2</th>\n",
       "      <th>Item3</th>\n",
       "      <th>Item4</th>\n",
       "      <th>Item5</th>\n",
       "      <th>Item6</th>\n",
       "      <th>Item7</th>\n",
       "      <th>Item8</th>\n",
       "    </tr>\n",
       "  </thead>\n",
       "  <tbody>\n",
       "    <tr>\n",
       "      <th>0</th>\n",
       "      <td>1</td>\n",
       "      <td>1</td>\n",
       "      <td>C412403</td>\n",
       "      <td>8cd49b13-f45a-4b47-a2bd-173ffa932c2f</td>\n",
       "      <td>3a83ddb66e2ae73798bdf1d705dc0932</td>\n",
       "      <td>Eva</td>\n",
       "      <td>AL</td>\n",
       "      <td>Morgan</td>\n",
       "      <td>35621</td>\n",
       "      <td>34.34960</td>\n",
       "      <td>-86.72508</td>\n",
       "      <td>2951</td>\n",
       "      <td>Suburban</td>\n",
       "      <td>America/Chicago</td>\n",
       "      <td>Psychologist, sport and exercise</td>\n",
       "      <td>1.0</td>\n",
       "      <td>53.0</td>\n",
       "      <td>Some College, Less than 1 Year</td>\n",
       "      <td>Full Time</td>\n",
       "      <td>86575.93</td>\n",
       "      <td>Divorced</td>\n",
       "      <td>Male</td>\n",
       "      <td>No</td>\n",
       "      <td>17.802330</td>\n",
       "      <td>6</td>\n",
       "      <td>0</td>\n",
       "      <td>0</td>\n",
       "      <td>NaN</td>\n",
       "      <td>Emergency Admission</td>\n",
       "      <td>Yes</td>\n",
       "      <td>No</td>\n",
       "      <td>Medium</td>\n",
       "      <td>0.0</td>\n",
       "      <td>Yes</td>\n",
       "      <td>Yes</td>\n",
       "      <td>No</td>\n",
       "      <td>Yes</td>\n",
       "      <td>1.0</td>\n",
       "      <td>Yes</td>\n",
       "      <td>No</td>\n",
       "      <td>Yes</td>\n",
       "      <td>Blood Work</td>\n",
       "      <td>10.585770</td>\n",
       "      <td>3191.048774</td>\n",
       "      <td>17939.403420</td>\n",
       "      <td>3</td>\n",
       "      <td>3</td>\n",
       "      <td>2</td>\n",
       "      <td>2</td>\n",
       "      <td>4</td>\n",
       "      <td>3</td>\n",
       "      <td>3</td>\n",
       "      <td>4</td>\n",
       "    </tr>\n",
       "    <tr>\n",
       "      <th>1</th>\n",
       "      <td>2</td>\n",
       "      <td>2</td>\n",
       "      <td>Z919181</td>\n",
       "      <td>d2450b70-0337-4406-bdbb-bc1037f1734c</td>\n",
       "      <td>176354c5eef714957d486009feabf195</td>\n",
       "      <td>Marianna</td>\n",
       "      <td>FL</td>\n",
       "      <td>Jackson</td>\n",
       "      <td>32446</td>\n",
       "      <td>30.84513</td>\n",
       "      <td>-85.22907</td>\n",
       "      <td>11303</td>\n",
       "      <td>Urban</td>\n",
       "      <td>America/Chicago</td>\n",
       "      <td>Community development worker</td>\n",
       "      <td>3.0</td>\n",
       "      <td>51.0</td>\n",
       "      <td>Some College, 1 or More Years, No Degree</td>\n",
       "      <td>Full Time</td>\n",
       "      <td>46805.99</td>\n",
       "      <td>Married</td>\n",
       "      <td>Female</td>\n",
       "      <td>No</td>\n",
       "      <td>18.994640</td>\n",
       "      <td>4</td>\n",
       "      <td>2</td>\n",
       "      <td>1</td>\n",
       "      <td>No</td>\n",
       "      <td>Emergency Admission</td>\n",
       "      <td>Yes</td>\n",
       "      <td>No</td>\n",
       "      <td>High</td>\n",
       "      <td>1.0</td>\n",
       "      <td>No</td>\n",
       "      <td>No</td>\n",
       "      <td>No</td>\n",
       "      <td>No</td>\n",
       "      <td>NaN</td>\n",
       "      <td>No</td>\n",
       "      <td>Yes</td>\n",
       "      <td>No</td>\n",
       "      <td>Intravenous</td>\n",
       "      <td>15.129562</td>\n",
       "      <td>4214.905346</td>\n",
       "      <td>17612.998120</td>\n",
       "      <td>3</td>\n",
       "      <td>4</td>\n",
       "      <td>3</td>\n",
       "      <td>4</td>\n",
       "      <td>4</td>\n",
       "      <td>4</td>\n",
       "      <td>3</td>\n",
       "      <td>3</td>\n",
       "    </tr>\n",
       "    <tr>\n",
       "      <th>2</th>\n",
       "      <td>3</td>\n",
       "      <td>3</td>\n",
       "      <td>F995323</td>\n",
       "      <td>a2057123-abf5-4a2c-abad-8ffe33512562</td>\n",
       "      <td>e19a0fa00aeda885b8a436757e889bc9</td>\n",
       "      <td>Sioux Falls</td>\n",
       "      <td>SD</td>\n",
       "      <td>Minnehaha</td>\n",
       "      <td>57110</td>\n",
       "      <td>43.54321</td>\n",
       "      <td>-96.63772</td>\n",
       "      <td>17125</td>\n",
       "      <td>Suburban</td>\n",
       "      <td>America/Chicago</td>\n",
       "      <td>Chief Executive Officer</td>\n",
       "      <td>3.0</td>\n",
       "      <td>53.0</td>\n",
       "      <td>Some College, 1 or More Years, No Degree</td>\n",
       "      <td>Retired</td>\n",
       "      <td>14370.14</td>\n",
       "      <td>Widowed</td>\n",
       "      <td>Female</td>\n",
       "      <td>No</td>\n",
       "      <td>17.415889</td>\n",
       "      <td>4</td>\n",
       "      <td>1</td>\n",
       "      <td>0</td>\n",
       "      <td>No</td>\n",
       "      <td>Elective Admission</td>\n",
       "      <td>Yes</td>\n",
       "      <td>No</td>\n",
       "      <td>Medium</td>\n",
       "      <td>1.0</td>\n",
       "      <td>No</td>\n",
       "      <td>Yes</td>\n",
       "      <td>No</td>\n",
       "      <td>No</td>\n",
       "      <td>NaN</td>\n",
       "      <td>No</td>\n",
       "      <td>No</td>\n",
       "      <td>No</td>\n",
       "      <td>Blood Work</td>\n",
       "      <td>4.772177</td>\n",
       "      <td>2177.586768</td>\n",
       "      <td>17505.192460</td>\n",
       "      <td>2</td>\n",
       "      <td>4</td>\n",
       "      <td>4</td>\n",
       "      <td>4</td>\n",
       "      <td>3</td>\n",
       "      <td>4</td>\n",
       "      <td>3</td>\n",
       "      <td>3</td>\n",
       "    </tr>\n",
       "    <tr>\n",
       "      <th>3</th>\n",
       "      <td>4</td>\n",
       "      <td>4</td>\n",
       "      <td>A879973</td>\n",
       "      <td>1dec528d-eb34-4079-adce-0d7a40e82205</td>\n",
       "      <td>cd17d7b6d152cb6f23957346d11c3f07</td>\n",
       "      <td>New Richland</td>\n",
       "      <td>MN</td>\n",
       "      <td>Waseca</td>\n",
       "      <td>56072</td>\n",
       "      <td>43.89744</td>\n",
       "      <td>-93.51479</td>\n",
       "      <td>2162</td>\n",
       "      <td>Suburban</td>\n",
       "      <td>America/Chicago</td>\n",
       "      <td>Early years teacher</td>\n",
       "      <td>0.0</td>\n",
       "      <td>78.0</td>\n",
       "      <td>GED or Alternative Credential</td>\n",
       "      <td>Retired</td>\n",
       "      <td>39741.49</td>\n",
       "      <td>Married</td>\n",
       "      <td>Male</td>\n",
       "      <td>No</td>\n",
       "      <td>17.420079</td>\n",
       "      <td>4</td>\n",
       "      <td>1</td>\n",
       "      <td>0</td>\n",
       "      <td>No</td>\n",
       "      <td>Elective Admission</td>\n",
       "      <td>No</td>\n",
       "      <td>Yes</td>\n",
       "      <td>Medium</td>\n",
       "      <td>0.0</td>\n",
       "      <td>Yes</td>\n",
       "      <td>No</td>\n",
       "      <td>No</td>\n",
       "      <td>No</td>\n",
       "      <td>NaN</td>\n",
       "      <td>No</td>\n",
       "      <td>Yes</td>\n",
       "      <td>Yes</td>\n",
       "      <td>Blood Work</td>\n",
       "      <td>1.714879</td>\n",
       "      <td>2465.118965</td>\n",
       "      <td>12993.437350</td>\n",
       "      <td>3</td>\n",
       "      <td>5</td>\n",
       "      <td>5</td>\n",
       "      <td>3</td>\n",
       "      <td>4</td>\n",
       "      <td>5</td>\n",
       "      <td>5</td>\n",
       "      <td>5</td>\n",
       "    </tr>\n",
       "    <tr>\n",
       "      <th>4</th>\n",
       "      <td>5</td>\n",
       "      <td>5</td>\n",
       "      <td>C544523</td>\n",
       "      <td>5885f56b-d6da-43a3-8760-83583af94266</td>\n",
       "      <td>d2f0425877b10ed6bb381f3e2579424a</td>\n",
       "      <td>West Point</td>\n",
       "      <td>VA</td>\n",
       "      <td>King William</td>\n",
       "      <td>23181</td>\n",
       "      <td>37.59894</td>\n",
       "      <td>-76.88958</td>\n",
       "      <td>5287</td>\n",
       "      <td>Rural</td>\n",
       "      <td>America/New_York</td>\n",
       "      <td>Health promotion specialist</td>\n",
       "      <td>NaN</td>\n",
       "      <td>22.0</td>\n",
       "      <td>Regular High School Diploma</td>\n",
       "      <td>Full Time</td>\n",
       "      <td>1209.56</td>\n",
       "      <td>Widowed</td>\n",
       "      <td>Female</td>\n",
       "      <td>No</td>\n",
       "      <td>16.870524</td>\n",
       "      <td>5</td>\n",
       "      <td>0</td>\n",
       "      <td>2</td>\n",
       "      <td>Yes</td>\n",
       "      <td>Elective Admission</td>\n",
       "      <td>No</td>\n",
       "      <td>No</td>\n",
       "      <td>Low</td>\n",
       "      <td>0.0</td>\n",
       "      <td>No</td>\n",
       "      <td>No</td>\n",
       "      <td>Yes</td>\n",
       "      <td>No</td>\n",
       "      <td>0.0</td>\n",
       "      <td>Yes</td>\n",
       "      <td>No</td>\n",
       "      <td>No</td>\n",
       "      <td>CT Scan</td>\n",
       "      <td>1.254807</td>\n",
       "      <td>1885.655137</td>\n",
       "      <td>3716.525786</td>\n",
       "      <td>2</td>\n",
       "      <td>1</td>\n",
       "      <td>3</td>\n",
       "      <td>3</td>\n",
       "      <td>5</td>\n",
       "      <td>3</td>\n",
       "      <td>4</td>\n",
       "      <td>3</td>\n",
       "    </tr>\n",
       "  </tbody>\n",
       "</table>\n",
       "</div>"
      ],
      "text/plain": [
       "   Unnamed: 0  CaseOrder Customer_id  ... Item6 Item7 Item8\n",
       "0           1          1     C412403  ...     3     3     4\n",
       "1           2          2     Z919181  ...     4     3     3\n",
       "2           3          3     F995323  ...     4     3     3\n",
       "3           4          4     A879973  ...     5     5     5\n",
       "4           5          5     C544523  ...     3     4     3\n",
       "\n",
       "[5 rows x 53 columns]"
      ]
     },
     "execution_count": 4,
     "metadata": {},
     "output_type": "execute_result"
    }
   ],
   "source": [
    "# Gives us a snapshot of values contained in each of our variables\n",
    "\n",
    "pd.set_option(\"display.max_columns\", 0)\n",
    "df.head()"
   ]
  },
  {
   "cell_type": "code",
   "execution_count": 5,
   "id": "bdc3df25-5dce-4cf6-a4e4-cb80a47da489",
   "metadata": {
    "tags": []
   },
   "outputs": [
    {
     "data": {
      "text/plain": [
       "0       False\n",
       "1       False\n",
       "2       False\n",
       "3       False\n",
       "4       False\n",
       "        ...  \n",
       "9995    False\n",
       "9996    False\n",
       "9997    False\n",
       "9998    False\n",
       "9999    False\n",
       "Length: 10000, dtype: bool"
      ]
     },
     "execution_count": 5,
     "metadata": {},
     "output_type": "execute_result"
    }
   ],
   "source": [
    "# Quickly identifies duplicated values\n",
    "\n",
    "df.duplicated()"
   ]
  },
  {
   "cell_type": "code",
   "execution_count": 6,
   "id": "a208dae7-73f9-410d-a15a-f17cc0a16d77",
   "metadata": {
    "tags": []
   },
   "outputs": [
    {
     "name": "stdout",
     "output_type": "stream",
     "text": [
      "False    10000\n",
      "dtype: int64\n"
     ]
    }
   ],
   "source": [
    "# Confirms all 10000 records are not duplicated as indicated by 10000 \"False\" values\n",
    "# Return of \"True\" tells us a record is duplicated\n",
    "\n",
    "print(df.duplicated().value_counts())"
   ]
  },
  {
   "cell_type": "code",
   "execution_count": 7,
   "id": "09b9b4e0-1cda-4229-8825-903eae0cbe84",
   "metadata": {
    "tags": []
   },
   "outputs": [
    {
     "data": {
      "text/plain": [
       "Unnamed: 0               0\n",
       "CaseOrder                0\n",
       "Customer_id              0\n",
       "Interaction              0\n",
       "UID                      0\n",
       "City                     0\n",
       "State                    0\n",
       "County                   0\n",
       "Zip                      0\n",
       "Lat                      0\n",
       "Lng                      0\n",
       "Population               0\n",
       "Area                     0\n",
       "Timezone                 0\n",
       "Job                      0\n",
       "Children              2588\n",
       "Age                   2414\n",
       "Education                0\n",
       "Employment               0\n",
       "Income                2464\n",
       "Marital                  0\n",
       "Gender                   0\n",
       "ReAdmis                  0\n",
       "VitD_levels              0\n",
       "Doc_visits               0\n",
       "Full_meals_eaten         0\n",
       "VitD_supp                0\n",
       "Soft_drink            2467\n",
       "Initial_admin            0\n",
       "HighBlood                0\n",
       "Stroke                   0\n",
       "Complication_risk        0\n",
       "Overweight             982\n",
       "Arthritis                0\n",
       "Diabetes                 0\n",
       "Hyperlipidemia           0\n",
       "BackPain                 0\n",
       "Anxiety                984\n",
       "Allergic_rhinitis        0\n",
       "Reflux_esophagitis       0\n",
       "Asthma                   0\n",
       "Services                 0\n",
       "Initial_days          1056\n",
       "TotalCharge              0\n",
       "Additional_charges       0\n",
       "Item1                    0\n",
       "Item2                    0\n",
       "Item3                    0\n",
       "Item4                    0\n",
       "Item5                    0\n",
       "Item6                    0\n",
       "Item7                    0\n",
       "Item8                    0\n",
       "dtype: int64"
      ]
     },
     "execution_count": 7,
     "metadata": {},
     "output_type": "execute_result"
    }
   ],
   "source": [
    "# Counts the sum of null variable values in our data set\n",
    "\n",
    "df.isnull().sum()"
   ]
  },
  {
   "cell_type": "code",
   "execution_count": 8,
   "id": "6aeb01d9-b74c-4418-8c48-351e797738bc",
   "metadata": {
    "tags": []
   },
   "outputs": [],
   "source": [
    "# We can see 7 variables that include missing values: Children, Age, Income, Soft_drink, Overweight, Anxiety, and Initial_days"
   ]
  },
  {
   "cell_type": "code",
   "execution_count": 9,
   "id": "e8ba05b3-a224-4b6a-9aaa-8b408a0f4211",
   "metadata": {
    "tags": []
   },
   "outputs": [
    {
     "data": {
      "image/png": "[encoded data removed]",
      "text/plain": [
       "<Figure size 640x480 with 1 Axes>"
      ]
     },
     "metadata": {},
     "output_type": "display_data"
    }
   ],
   "source": [
    "# Visualizes null values for 'Children' variable\n",
    "\n",
    "plt.hist(df['Children'])\n",
    "plt.show()"
   ]
  },
  {
   "cell_type": "code",
   "execution_count": 10,
   "id": "9fdde878-8c0c-4ae9-b6c2-0984abd67f4c",
   "metadata": {
    "tags": []
   },
   "outputs": [],
   "source": [
    "# Histogram is skewed right for number of children; we will replace missing values with median\n",
    "\n",
    "df['Children'].fillna(df['Children'].median(), inplace=True)"
   ]
  },
  {
   "cell_type": "code",
   "execution_count": 11,
   "id": "b47434d0-ecac-4ecd-94c7-e65689b0cf59",
   "metadata": {
    "tags": []
   },
   "outputs": [
    {
     "data": {
      "image/png": "[encoded data removed]",
      "text/plain": [
       "<Figure size 640x480 with 1 Axes>"
      ]
     },
     "metadata": {},
     "output_type": "display_data"
    }
   ],
   "source": [
    "# Visualizes 'Children' following replacement of null values with median\n",
    "# Distribution appears relatively similar, skewed right\n",
    "\n",
    "plt.hist(df['Children'])\n",
    "plt.show()"
   ]
  },
  {
   "cell_type": "code",
   "execution_count": 12,
   "id": "4fa8de0e-1fff-4ea1-8ec1-e81b2d18cebd",
   "metadata": {
    "tags": []
   },
   "outputs": [
    {
     "data": {
      "image/png": "[encoded data removed]",
      "text/plain": [
       "<Figure size 640x480 with 1 Axes>"
      ]
     },
     "metadata": {},
     "output_type": "display_data"
    }
   ],
   "source": [
    "# Visualizes null values for 'Age' variable\n",
    "\n",
    "plt.hist(df['Age'])\n",
    "plt.show()"
   ]
  },
  {
   "cell_type": "code",
   "execution_count": 13,
   "id": "020bcc11-ad96-46fb-8a42-d5b321fc7cf5",
   "metadata": {
    "tags": []
   },
   "outputs": [
    {
     "data": {
      "text/plain": [
       "count    7586.000000\n",
       "mean       53.295676\n",
       "std        20.659182\n",
       "min        18.000000\n",
       "25%        35.000000\n",
       "50%        53.000000\n",
       "75%        71.000000\n",
       "max        89.000000\n",
       "Name: Age, dtype: float64"
      ]
     },
     "execution_count": 13,
     "metadata": {},
     "output_type": "execute_result"
    }
   ],
   "source": [
    "# This describes statistical characteristics of our 'Age' variable\n",
    "\n",
    "df['Age'].describe()"
   ]
  },
  {
   "cell_type": "code",
   "execution_count": 14,
   "id": "fdc68153-831e-4e0f-ba09-2b601810cf4c",
   "metadata": {
    "tags": []
   },
   "outputs": [],
   "source": [
    "# Histogram is distrubuted normally for ['Age']; we will replace missing values with mean\n",
    "\n",
    "df['Age'].fillna(df['Age'].mean(), inplace=True)"
   ]
  },
  {
   "cell_type": "code",
   "execution_count": 15,
   "id": "4ef16b39-6526-4368-b673-a42998943745",
   "metadata": {
    "tags": []
   },
   "outputs": [
    {
     "data": {
      "image/png": "[encoded data removed]",
      "text/plain": [
       "<Figure size 640x480 with 1 Axes>"
      ]
     },
     "metadata": {},
     "output_type": "display_data"
    }
   ],
   "source": [
    "# Visualizes 'Age' following replacement of null values with mean\n",
    "# Distribution appears to be have spiked at the mean - we can attribute this spike directly to replacement of 2414 null values with the variable mean\n",
    "\n",
    "plt.hist(df['Age'])\n",
    "plt.show()"
   ]
  },
  {
   "cell_type": "code",
   "execution_count": 16,
   "id": "1909b175-508a-4eaf-8df5-2d48f2ce8fec",
   "metadata": {
    "tags": []
   },
   "outputs": [
    {
     "data": {
      "text/plain": [
       "count    10000.000000\n",
       "mean        53.295676\n",
       "std         17.993375\n",
       "min         18.000000\n",
       "25%         41.000000\n",
       "50%         53.295676\n",
       "75%         65.000000\n",
       "max         89.000000\n",
       "Name: Age, dtype: float64"
      ]
     },
     "execution_count": 16,
     "metadata": {},
     "output_type": "execute_result"
    }
   ],
   "source": [
    "# We can identify that our change in distribution has not affected our mean value\n",
    "\n",
    "df['Age'].describe()"
   ]
  },
  {
   "cell_type": "code",
   "execution_count": 17,
   "id": "3c262da4-9411-43d2-87ca-613b912eaf57",
   "metadata": {
    "tags": []
   },
   "outputs": [
    {
     "data": {
      "image/png": "[encoded data removed]",
      "text/plain": [
       "<Figure size 640x480 with 1 Axes>"
      ]
     },
     "metadata": {},
     "output_type": "display_data"
    }
   ],
   "source": [
    "# Visualizes null values for 'Income' variable\n",
    "\n",
    "plt.hist(df['Income'])\n",
    "plt.show()"
   ]
  },
  {
   "cell_type": "code",
   "execution_count": 18,
   "id": "e730f9eb-67af-4aa6-b1f2-974cd2f12de0",
   "metadata": {
    "tags": []
   },
   "outputs": [],
   "source": [
    "# Histogram is skewed right for 'Income'; we will replace missing values with median\n",
    "\n",
    "df['Income'].fillna(df['Income'].median(), inplace=True)"
   ]
  },
  {
   "cell_type": "code",
   "execution_count": 19,
   "id": "a557593f-baae-4e15-aed9-0ad7d689728f",
   "metadata": {
    "tags": []
   },
   "outputs": [
    {
     "data": {
      "image/png": "[encoded data removed]",
      "text/plain": [
       "<Figure size 640x480 with 1 Axes>"
      ]
     },
     "metadata": {},
     "output_type": "display_data"
    }
   ],
   "source": [
    "# Visualizes 'Income' following replacement of null values with median\n",
    "# Distribution appears relatively similar, skewed right\n",
    "\n",
    "plt.hist(df['Income'])\n",
    "plt.show()"
   ]
  },
  {
   "cell_type": "code",
   "execution_count": 20,
   "id": "05c9ded3-669e-4706-aeaf-78deaf14ef12",
   "metadata": {
    "tags": []
   },
   "outputs": [
    {
     "data": {
      "text/plain": [
       "count     7533\n",
       "unique       2\n",
       "top         No\n",
       "freq      5589\n",
       "Name: Soft_drink, dtype: object"
      ]
     },
     "execution_count": 20,
     "metadata": {},
     "output_type": "execute_result"
    }
   ],
   "source": [
    "# We can appreciate that \"Soft_drink\" from our df.info() command carries an \"object\" type\n",
    "# This command lists unique values\n",
    "\n",
    "df['Soft_drink'].describe()"
   ]
  },
  {
   "cell_type": "code",
   "execution_count": 21,
   "id": "621fe35a-bb5e-44e9-ac7f-002435de653e",
   "metadata": {
    "tags": []
   },
   "outputs": [
    {
     "data": {
      "text/plain": [
       "(0       NaN\n",
       " 1        No\n",
       " 2        No\n",
       " 3        No\n",
       " 4       Yes\n",
       "        ... \n",
       " 9995     No\n",
       " 9996     No\n",
       " 9997    Yes\n",
       " 9998     No\n",
       " 9999     No\n",
       " Name: Soft_drink, Length: 10000, dtype: object,\n",
       " array([nan, 'No', 'Yes'], dtype=object))"
      ]
     },
     "execution_count": 21,
     "metadata": {},
     "output_type": "execute_result"
    }
   ],
   "source": [
    "# This tells us the 2 attributes of \"Soft_drink\" are either Yes or No (excluding null values)\n",
    "\n",
    "df['Soft_drink'], df['Soft_drink'].unique()\n"
   ]
  },
  {
   "cell_type": "code",
   "execution_count": 22,
   "id": "804292b9-8c57-4ae8-8264-837f313fece7",
   "metadata": {
    "tags": []
   },
   "outputs": [],
   "source": [
    "# We can replicate the \"Soft_drink\" variable and re-express objects as a dictionary function\n",
    "\n",
    "df['Soft_drink_numeric'] = df['Soft_drink']"
   ]
  },
  {
   "cell_type": "code",
   "execution_count": 23,
   "id": "b70ffdbb-7971-4a7b-8d95-f649717082ef",
   "metadata": {
    "tags": []
   },
   "outputs": [],
   "source": [
    "# Creating the dictionary\n",
    "\n",
    "dict_drink = {\"Soft_drink_numeric\": {'No':0, 'Yes':1, 'nan':'np.nan'}}"
   ]
  },
  {
   "cell_type": "code",
   "execution_count": 24,
   "id": "5b1a9028-0dee-46f7-8809-89622da17163",
   "metadata": {
    "tags": []
   },
   "outputs": [],
   "source": [
    "# Now we can replace our re-expressed duplicate Soft_drink variable\n",
    "\n",
    "df.replace(dict_drink, inplace=True)"
   ]
  },
  {
   "cell_type": "code",
   "execution_count": 25,
   "id": "11b9fcbe-2a8c-4f94-a069-f8d793cf6008",
   "metadata": {
    "tags": []
   },
   "outputs": [
    {
     "name": "stdout",
     "output_type": "stream",
     "text": [
      "<class 'pandas.core.series.Series'>\n",
      "RangeIndex: 10000 entries, 0 to 9999\n",
      "Series name: Soft_drink_numeric\n",
      "Non-Null Count  Dtype  \n",
      "--------------  -----  \n",
      "7533 non-null   float64\n",
      "dtypes: float64(1)\n",
      "memory usage: 78.3 KB\n"
     ]
    },
    {
     "data": {
      "text/plain": [
       "(None, array([nan,  0.,  1.]))"
      ]
     },
     "execution_count": 25,
     "metadata": {},
     "output_type": "execute_result"
    }
   ],
   "source": [
    "# This verifies that our variable type has been converted to a float\n",
    "\n",
    "df['Soft_drink_numeric'].info(), df['Soft_drink_numeric'].unique()"
   ]
  },
  {
   "cell_type": "code",
   "execution_count": 26,
   "id": "5ef2e5b6-bbf1-4571-9862-37b361c16383",
   "metadata": {
    "tags": []
   },
   "outputs": [
    {
     "data": {
      "image/png": "[encoded data removed]",
      "text/plain": [
       "<Figure size 640x480 with 1 Axes>"
      ]
     },
     "metadata": {},
     "output_type": "display_data"
    }
   ],
   "source": [
    "# Visualizes 'Soft_drink_numeric' after re-expression\n",
    "\n",
    "plt.hist(df['Soft_drink_numeric'])\n",
    "plt.show()"
   ]
  },
  {
   "cell_type": "code",
   "execution_count": 27,
   "id": "c0e37b08-1055-4f90-a1df-195b24781e3b",
   "metadata": {
    "tags": []
   },
   "outputs": [],
   "source": [
    "# Replaces categorical null values with the mode and are associated with our '0' locator\n",
    "\n",
    "df['Soft_drink_numeric'] = df['Soft_drink_numeric'].fillna(df['Soft_drink_numeric'].mode()[0])"
   ]
  },
  {
   "cell_type": "code",
   "execution_count": 28,
   "id": "7a118b57-6aae-4739-82b0-f28c3fbbbed0",
   "metadata": {
    "tags": []
   },
   "outputs": [
    {
     "name": "stdout",
     "output_type": "stream",
     "text": [
      "<class 'pandas.core.series.Series'>\n",
      "RangeIndex: 10000 entries, 0 to 9999\n",
      "Series name: Soft_drink_numeric\n",
      "Non-Null Count  Dtype  \n",
      "--------------  -----  \n",
      "10000 non-null  float64\n",
      "dtypes: float64(1)\n",
      "memory usage: 78.3 KB\n"
     ]
    }
   ],
   "source": [
    "# Determines if all of our null values have been filled; this should be equal to 10000\n",
    "\n",
    "df['Soft_drink_numeric'].info()"
   ]
  },
  {
   "cell_type": "code",
   "execution_count": 29,
   "id": "861fc697-d186-4d6e-a40b-0114e4f65bbb",
   "metadata": {
    "tags": []
   },
   "outputs": [
    {
     "data": {
      "image/png": "[encoded data removed]",
      "text/plain": [
       "<Figure size 640x480 with 1 Axes>"
      ]
     },
     "metadata": {},
     "output_type": "display_data"
    }
   ],
   "source": [
    "# Visualizes 'Income' following replacement of null values with mode\n",
    "# Distribution appears relatively similar, still containing only 2 values\n",
    "\n",
    "plt.hist(df['Soft_drink_numeric'])\n",
    "plt.show()"
   ]
  },
  {
   "cell_type": "code",
   "execution_count": 30,
   "id": "118b66a0-8894-478a-ae58-c1b54a467632",
   "metadata": {
    "tags": []
   },
   "outputs": [],
   "source": [
    "# Replaces categorical null values with the mode and are associated with our '0' locator\n",
    "\n",
    "df['Overweight'] = df['Overweight'].fillna(df['Overweight'].mode()[0])"
   ]
  },
  {
   "cell_type": "code",
   "execution_count": 31,
   "id": "120b8fc1-609d-45fe-b5e2-4ff80853636e",
   "metadata": {
    "tags": []
   },
   "outputs": [
    {
     "data": {
      "image/png": "[encoded data removed]",
      "text/plain": [
       "<Figure size 640x480 with 1 Axes>"
      ]
     },
     "metadata": {},
     "output_type": "display_data"
    }
   ],
   "source": [
    "# Visualizes null values for 'Overweight' variable\n",
    "# This variable also appears to be categorical, though already exists as a float type\n",
    "\n",
    "plt.hist(df['Overweight'])\n",
    "plt.show()"
   ]
  },
  {
   "cell_type": "code",
   "execution_count": 32,
   "id": "35da0e70-804e-4130-906d-3cb8a9bffbaf",
   "metadata": {
    "tags": []
   },
   "outputs": [
    {
     "data": {
      "image/png": "[encoded data removed]",
      "text/plain": [
       "<Figure size 640x480 with 1 Axes>"
      ]
     },
     "metadata": {},
     "output_type": "display_data"
    }
   ],
   "source": [
    "# This confirms our mode increased to reflect filling of null/0 values\n",
    "\n",
    "plt.hist(df['Overweight'])\n",
    "plt.show()"
   ]
  },
  {
   "cell_type": "code",
   "execution_count": 33,
   "id": "de5bdd11-44f3-4587-99ab-b7a50a2bef67",
   "metadata": {
    "tags": []
   },
   "outputs": [
    {
     "data": {
      "image/png": "[encoded data removed]",
      "text/plain": [
       "<Figure size 640x480 with 1 Axes>"
      ]
     },
     "metadata": {},
     "output_type": "display_data"
    }
   ],
   "source": [
    "# The same is true of anxiey; we can repeat the process\n",
    "\n",
    "plt.hist(df['Anxiety'])\n",
    "plt.show()"
   ]
  },
  {
   "cell_type": "code",
   "execution_count": 34,
   "id": "1a46888e-977e-4cba-a0f2-5eed62725e59",
   "metadata": {
    "tags": []
   },
   "outputs": [],
   "source": [
    "# This variable is categorical and we can replace null values with the mode\n",
    "\n",
    "df['Anxiety'] = df['Anxiety'].fillna(df['Anxiety'].mode()[0])"
   ]
  },
  {
   "cell_type": "code",
   "execution_count": 35,
   "id": "e407b1b3-7b44-4255-9c4f-412b7daa3cb3",
   "metadata": {
    "tags": []
   },
   "outputs": [
    {
     "data": {
      "image/png": "[encoded data removed]",
      "text/plain": [
       "<Figure size 640x480 with 1 Axes>"
      ]
     },
     "metadata": {},
     "output_type": "display_data"
    }
   ],
   "source": [
    "# Our distribution appears similar\n",
    "\n",
    "plt.hist(df['Anxiety'])\n",
    "plt.show()"
   ]
  },
  {
   "cell_type": "code",
   "execution_count": 36,
   "id": "80349ebf-0eba-4a77-96a0-935e04175c80",
   "metadata": {
    "tags": []
   },
   "outputs": [
    {
     "data": {
      "image/png": "[encoded data removed]",
      "text/plain": [
       "<Figure size 640x480 with 1 Axes>"
      ]
     },
     "metadata": {},
     "output_type": "display_data"
    }
   ],
   "source": [
    "# Here we see asymmetrical bimodal distrubution\n",
    "\n",
    "plt.hist(df['Initial_days'])\n",
    "plt.show()"
   ]
  },
  {
   "cell_type": "code",
   "execution_count": 37,
   "id": "1332b800-bcf9-43c1-b7a7-a39508408e10",
   "metadata": {},
   "outputs": [
    {
     "data": {
      "text/plain": [
       "count    8944.000000\n",
       "mean       34.432082\n",
       "std        26.287050\n",
       "min         1.001981\n",
       "25%         7.911709\n",
       "50%        34.446941\n",
       "75%        61.124654\n",
       "max        71.981486\n",
       "Name: Initial_days, dtype: float64"
      ]
     },
     "execution_count": 37,
     "metadata": {},
     "output_type": "execute_result"
    }
   ],
   "source": [
    "# We will impute the median in our next step\n",
    "# First, we should understand the distribution of our data as increasing median values may change the distribution of our data\n",
    "\n",
    "df['Initial_days'].describe()"
   ]
  },
  {
   "cell_type": "code",
   "execution_count": 38,
   "id": "4c83b44b-656a-4b30-91f9-fc7fae9cb007",
   "metadata": {
    "tags": []
   },
   "outputs": [],
   "source": [
    "# We will use median as our method of univariate imputation as this is less sensitive to outliers\n",
    "\n",
    "df['Initial_days'].fillna(df['Initial_days'].median(), inplace=True)"
   ]
  },
  {
   "cell_type": "code",
   "execution_count": 39,
   "id": "c10b52b2-c218-4902-85b6-a6ec2c748f25",
   "metadata": {
    "tags": []
   },
   "outputs": [
    {
     "data": {
      "image/png": "[encoded data removed]",
      "text/plain": [
       "<Figure size 640x480 with 1 Axes>"
      ]
     },
     "metadata": {},
     "output_type": "display_data"
    }
   ],
   "source": [
    "# We have 1056 missing values to assign the median value\n",
    "# Our histogram remains bimodal and asymmetric\n",
    "\n",
    "plt.hist(df['Initial_days'])\n",
    "plt.show()"
   ]
  },
  {
   "cell_type": "code",
   "execution_count": 40,
   "id": "98ba7bee-e3b0-470f-8834-0e71ce37046e",
   "metadata": {
    "scrolled": true,
    "tags": []
   },
   "outputs": [
    {
     "data": {
      "text/plain": [
       "count    10000.000000\n",
       "mean        34.433651\n",
       "std         24.860232\n",
       "min          1.001981\n",
       "25%          8.928987\n",
       "50%         34.446941\n",
       "75%         59.459981\n",
       "max         71.981486\n",
       "Name: Initial_days, dtype: float64"
      ]
     },
     "execution_count": 40,
     "metadata": {},
     "output_type": "execute_result"
    }
   ],
   "source": [
    "# Descibes distribution of the data following imputation\n",
    "\n",
    "df['Initial_days'].describe()"
   ]
  },
  {
   "cell_type": "code",
   "execution_count": 41,
   "id": "569fce0d-d559-41f1-b3f6-4b1802978563",
   "metadata": {
    "tags": []
   },
   "outputs": [
    {
     "name": "stdout",
     "output_type": "stream",
     "text": [
      "<class 'pandas.core.frame.DataFrame'>\n",
      "RangeIndex: 10000 entries, 0 to 9999\n",
      "Data columns (total 54 columns):\n",
      " #   Column              Non-Null Count  Dtype  \n",
      "---  ------              --------------  -----  \n",
      " 0   Unnamed: 0          10000 non-null  int64  \n",
      " 1   CaseOrder           10000 non-null  int64  \n",
      " 2   Customer_id         10000 non-null  object \n",
      " 3   Interaction         10000 non-null  object \n",
      " 4   UID                 10000 non-null  object \n",
      " 5   City                10000 non-null  object \n",
      " 6   State               10000 non-null  object \n",
      " 7   County              10000 non-null  object \n",
      " 8   Zip                 10000 non-null  int64  \n",
      " 9   Lat                 10000 non-null  float64\n",
      " 10  Lng                 10000 non-null  float64\n",
      " 11  Population          10000 non-null  int64  \n",
      " 12  Area                10000 non-null  object \n",
      " 13  Timezone            10000 non-null  object \n",
      " 14  Job                 10000 non-null  object \n",
      " 15  Children            10000 non-null  float64\n",
      " 16  Age                 10000 non-null  float64\n",
      " 17  Education           10000 non-null  object \n",
      " 18  Employment          10000 non-null  object \n",
      " 19  Income              10000 non-null  float64\n",
      " 20  Marital             10000 non-null  object \n",
      " 21  Gender              10000 non-null  object \n",
      " 22  ReAdmis             10000 non-null  object \n",
      " 23  VitD_levels         10000 non-null  float64\n",
      " 24  Doc_visits          10000 non-null  int64  \n",
      " 25  Full_meals_eaten    10000 non-null  int64  \n",
      " 26  VitD_supp           10000 non-null  int64  \n",
      " 27  Soft_drink          7533 non-null   object \n",
      " 28  Initial_admin       10000 non-null  object \n",
      " 29  HighBlood           10000 non-null  object \n",
      " 30  Stroke              10000 non-null  object \n",
      " 31  Complication_risk   10000 non-null  object \n",
      " 32  Overweight          10000 non-null  float64\n",
      " 33  Arthritis           10000 non-null  object \n",
      " 34  Diabetes            10000 non-null  object \n",
      " 35  Hyperlipidemia      10000 non-null  object \n",
      " 36  BackPain            10000 non-null  object \n",
      " 37  Anxiety             10000 non-null  float64\n",
      " 38  Allergic_rhinitis   10000 non-null  object \n",
      " 39  Reflux_esophagitis  10000 non-null  object \n",
      " 40  Asthma              10000 non-null  object \n",
      " 41  Services            10000 non-null  object \n",
      " 42  Initial_days        10000 non-null  float64\n",
      " 43  TotalCharge         10000 non-null  float64\n",
      " 44  Additional_charges  10000 non-null  float64\n",
      " 45  Item1               10000 non-null  int64  \n",
      " 46  Item2               10000 non-null  int64  \n",
      " 47  Item3               10000 non-null  int64  \n",
      " 48  Item4               10000 non-null  int64  \n",
      " 49  Item5               10000 non-null  int64  \n",
      " 50  Item6               10000 non-null  int64  \n",
      " 51  Item7               10000 non-null  int64  \n",
      " 52  Item8               10000 non-null  int64  \n",
      " 53  Soft_drink_numeric  10000 non-null  float64\n",
      "dtypes: float64(12), int64(15), object(27)\n",
      "memory usage: 4.1+ MB\n"
     ]
    }
   ],
   "source": [
    "# Finally, we can see that all of our missing values have been filled\n",
    "# At index 27, our original 'Soft_drink' variable is present as we have duplicated it, re-expressed data from \"object\" to \"floatt\", and re appropriately filled missing values\n",
    "\n",
    "df.info()"
   ]
  },
  {
   "cell_type": "code",
   "execution_count": 42,
   "id": "f4881d63-6a08-4672-8486-7c7423f52a29",
   "metadata": {},
   "outputs": [],
   "source": [
    "# We need to identify all of our quantitative variables to detect outliers\n",
    "# These include: Children, Age, Income, VitD_levels, Doc_visits, Full_meals_eaten, VitD_supp, Initial_days, TotalCharge, and Additional_charges\n",
    "# We can create a new z-score column for each corresponding variable"
   ]
  },
  {
   "cell_type": "code",
   "execution_count": 43,
   "id": "0e5b868b-2577-45f7-a754-31f2793d0df3",
   "metadata": {},
   "outputs": [],
   "source": [
    "# Creates a z-score chart for Children\n",
    "\n",
    "df['Z_Score_Children']=stats.zscore(df['Children'])"
   ]
  },
  {
   "cell_type": "code",
   "execution_count": 44,
   "id": "f893e58d-4f9c-40be-803d-32b2c60270b7",
   "metadata": {
    "tags": []
   },
   "outputs": [
    {
     "data": {
      "text/plain": [
       "<bound method NDFrame.head of       Children  Z_Score_Children\n",
       "0          1.0         -0.424650\n",
       "1          3.0          0.618716\n",
       "2          3.0          0.618716\n",
       "3          0.0         -0.946333\n",
       "4          1.0         -0.424650\n",
       "...        ...               ...\n",
       "9995       1.0         -0.424650\n",
       "9996       4.0          1.140399\n",
       "9997       3.0          0.618716\n",
       "9998       3.0          0.618716\n",
       "9999       8.0          3.227130\n",
       "\n",
       "[10000 rows x 2 columns]>"
      ]
     },
     "execution_count": 44,
     "metadata": {},
     "output_type": "execute_result"
    }
   ],
   "source": [
    "# Views the variable alongside the new corresponding z-score\n",
    "\n",
    "df[['Children', 'Z_Score_Children']].head"
   ]
  },
  {
   "cell_type": "code",
   "execution_count": 45,
   "id": "2167c353-a457-48be-849b-07377441fe7b",
   "metadata": {
    "tags": []
   },
   "outputs": [
    {
     "data": {
      "image/png": "[encoded data removed]",
      "text/plain": [
       "<Figure size 640x480 with 1 Axes>"
      ]
     },
     "metadata": {},
     "output_type": "display_data"
    }
   ],
   "source": [
    "# Creates a box plot to view outliers\n",
    "# Outliers here will be retained, as having 10 children is not unreasonable\n",
    "\n",
    "boxplot=sns.boxplot(x='Children',data=df)"
   ]
  },
  {
   "cell_type": "code",
   "execution_count": 46,
   "id": "61c4dc23-8a04-4805-a343-f2c1383d8516",
   "metadata": {
    "tags": []
   },
   "outputs": [],
   "source": [
    "# Creates a z-score chart for Age\n",
    "\n",
    "df['Z_Score_Age']=stats.zscore(df['Age'])"
   ]
  },
  {
   "cell_type": "code",
   "execution_count": 47,
   "id": "bc5d095f-acf5-485d-b86d-bd11cfb6e19b",
   "metadata": {
    "tags": []
   },
   "outputs": [
    {
     "data": {
      "text/plain": [
       "<bound method NDFrame.head of             Age   Z_Score_Age\n",
       "0     53.000000 -1.643333e-02\n",
       "1     51.000000 -1.275909e-01\n",
       "2     53.000000 -1.643333e-02\n",
       "3     78.000000  1.373036e+00\n",
       "4     22.000000 -1.739376e+00\n",
       "...         ...           ...\n",
       "9995  25.000000 -1.572639e+00\n",
       "9996  87.000000  1.873245e+00\n",
       "9997  53.295676  3.949110e-16\n",
       "9998  43.000000 -5.722212e-01\n",
       "9999  53.295676  3.949110e-16\n",
       "\n",
       "[10000 rows x 2 columns]>"
      ]
     },
     "execution_count": 47,
     "metadata": {},
     "output_type": "execute_result"
    }
   ],
   "source": [
    "# Views the variable alongside the new corresponding z-score\n",
    "\n",
    "df[['Age', 'Z_Score_Age']].head"
   ]
  },
  {
   "cell_type": "code",
   "execution_count": 48,
   "id": "1b951ab7-dc60-4260-a20f-2646958acbfe",
   "metadata": {
    "tags": []
   },
   "outputs": [
    {
     "data": {
      "image/png": "[encoded data removed]",
      "text/plain": [
       "<Figure size 640x480 with 1 Axes>"
      ]
     },
     "metadata": {},
     "output_type": "display_data"
    }
   ],
   "source": [
    "# Creates a box plot to view outliers\n",
    "# Outliers here will be retained as our age group of roughly 20-90 seems reasonable\n",
    "\n",
    "boxplot=sns.boxplot(x='Age',data=df)"
   ]
  },
  {
   "cell_type": "code",
   "execution_count": 49,
   "id": "fcd8f545-99d0-4a7c-8714-0a81fcd1a295",
   "metadata": {
    "tags": []
   },
   "outputs": [],
   "source": [
    "# Creates a z-score chart for Income\n",
    "\n",
    "df['Z_Score_Income']=stats.zscore(df['Income'])"
   ]
  },
  {
   "cell_type": "code",
   "execution_count": 50,
   "id": "278ed682-7b63-4477-97c1-de556155fdb3",
   "metadata": {
    "tags": []
   },
   "outputs": [
    {
     "data": {
      "text/plain": [
       "<bound method NDFrame.head of         Income  Z_Score_Income\n",
       "0     86575.93        1.904974\n",
       "1     46805.99        0.316815\n",
       "2     14370.14       -0.978466\n",
       "3     39741.49        0.034704\n",
       "4      1209.56       -1.504016\n",
       "...        ...             ...\n",
       "9995  45967.61        0.283336\n",
       "9996  14983.02       -0.953992\n",
       "9997  65917.81        1.080020\n",
       "9998  29702.32       -0.366197\n",
       "9999  62682.63        0.950827\n",
       "\n",
       "[10000 rows x 2 columns]>"
      ]
     },
     "execution_count": 50,
     "metadata": {},
     "output_type": "execute_result"
    }
   ],
   "source": [
    "# Views the variable alongside the new corresponding z-score\n",
    "\n",
    "df[['Income', 'Z_Score_Income']].head"
   ]
  },
  {
   "cell_type": "code",
   "execution_count": 51,
   "id": "0b36bf33-fdc4-4500-acb6-20ca3bc9fcd4",
   "metadata": {
    "tags": []
   },
   "outputs": [
    {
     "data": {
      "image/png": "[encoded data removed]",
      "text/plain": [
       "<Figure size 640x480 with 1 Axes>"
      ]
     },
     "metadata": {},
     "output_type": "display_data"
    }
   ],
   "source": [
    "# Creates a box plot to view outliers\n",
    "# Outliers here will be retained as our range of $0 to > $200,000 is reasonable\n",
    "\n",
    "boxplot=sns.boxplot(x='Income',data=df)"
   ]
  },
  {
   "cell_type": "code",
   "execution_count": 52,
   "id": "e4d2c3c2-8c45-4074-b77f-19eafd00735a",
   "metadata": {
    "tags": []
   },
   "outputs": [],
   "source": [
    "# Creates a z-score chart for Vitamin D levels\n",
    "\n",
    "df['Z_Score_VitD_levels']=stats.zscore(df['VitD_levels'])"
   ]
  },
  {
   "cell_type": "code",
   "execution_count": 53,
   "id": "2cd73108-0910-4170-90cb-e8185772dfd6",
   "metadata": {
    "tags": []
   },
   "outputs": [
    {
     "data": {
      "text/plain": [
       "<bound method NDFrame.head of       VitD_levels  Z_Score_VitD_levels\n",
       "0       17.802330            -0.239530\n",
       "1       18.994640            -0.062181\n",
       "2       17.415889            -0.297011\n",
       "3       17.420079            -0.296388\n",
       "4       16.870524            -0.378131\n",
       "...           ...                  ...\n",
       "9995    16.481612            -0.435979\n",
       "9996    18.451601            -0.142954\n",
       "9997    15.752751            -0.544393\n",
       "9998    21.956305             0.378351\n",
       "9999    20.421883             0.150114\n",
       "\n",
       "[10000 rows x 2 columns]>"
      ]
     },
     "execution_count": 53,
     "metadata": {},
     "output_type": "execute_result"
    }
   ],
   "source": [
    "# Views the variable alongside the new corresponding z-score\n",
    "\n",
    "df[['VitD_levels', 'Z_Score_VitD_levels']].head"
   ]
  },
  {
   "cell_type": "code",
   "execution_count": 54,
   "id": "5b173037-725f-4697-9d12-281fdb9075bc",
   "metadata": {
    "tags": []
   },
   "outputs": [
    {
     "data": {
      "image/png": "[encoded data removed]",
      "text/plain": [
       "<Figure size 640x480 with 1 Axes>"
      ]
     },
     "metadata": {},
     "output_type": "display_data"
    }
   ],
   "source": [
    "# Creates a box plot to view outliers\n",
    "# These values will be retained as values they are reasonably within normal limits\n",
    "\n",
    "boxplot=sns.boxplot(x='VitD_levels',data=df)"
   ]
  },
  {
   "cell_type": "code",
   "execution_count": 55,
   "id": "8e40ab72-9a73-4bd9-ab35-681be7019733",
   "metadata": {
    "tags": []
   },
   "outputs": [],
   "source": [
    "# Creates a z-score chart for Doc Visits\n",
    "\n",
    "df['Z_Score_Doc_visits']=stats.zscore(df['Doc_visits'])"
   ]
  },
  {
   "cell_type": "code",
   "execution_count": 56,
   "id": "8184fac6-9a4a-49c8-8b4c-7ef858ccbfce",
   "metadata": {
    "tags": []
   },
   "outputs": [
    {
     "data": {
      "text/plain": [
       "<bound method NDFrame.head of       Doc_visits  Z_Score_Doc_visits\n",
       "0              6            0.944647\n",
       "1              4           -0.967981\n",
       "2              4           -0.967981\n",
       "3              4           -0.967981\n",
       "4              5           -0.011667\n",
       "...          ...                 ...\n",
       "9995           4           -0.967981\n",
       "9996           5           -0.011667\n",
       "9997           4           -0.967981\n",
       "9998           5           -0.011667\n",
       "9999           5           -0.011667\n",
       "\n",
       "[10000 rows x 2 columns]>"
      ]
     },
     "execution_count": 56,
     "metadata": {},
     "output_type": "execute_result"
    }
   ],
   "source": [
    "# Views the variable alongside the new corresponding z-score\n",
    "\n",
    "df[['Doc_visits', 'Z_Score_Doc_visits']].head"
   ]
  },
  {
   "cell_type": "code",
   "execution_count": 57,
   "id": "b119fe1e-cfdf-41d5-ad8c-d9538e7e9833",
   "metadata": {
    "tags": []
   },
   "outputs": [
    {
     "data": {
      "image/png": "[encoded data removed]",
      "text/plain": [
       "<Figure size 640x480 with 1 Axes>"
      ]
     },
     "metadata": {},
     "output_type": "display_data"
    }
   ],
   "source": [
    "# Creates a box plot to view outliers\n",
    "# These values will be retained as it is not unusual for a doctor to visit a patient regulary during a hospital admission\n",
    "\n",
    "boxplot=sns.boxplot(x='Doc_visits',data=df)"
   ]
  },
  {
   "cell_type": "code",
   "execution_count": 58,
   "id": "18b06993-7a0b-40b5-b860-5a7d38582a2a",
   "metadata": {
    "tags": []
   },
   "outputs": [],
   "source": [
    "# Creates a z-score chart for Full meals eaten\n",
    "\n",
    "df['Z_Score_Full_meals_eaten']=stats.zscore(df['Full_meals_eaten'])"
   ]
  },
  {
   "cell_type": "code",
   "execution_count": 59,
   "id": "e8a62212-5171-4120-ac61-d6e5afa740d2",
   "metadata": {
    "tags": []
   },
   "outputs": [
    {
     "data": {
      "text/plain": [
       "<bound method NDFrame.head of       Full_meals_eaten  Z_Score_Full_meals_eaten\n",
       "0                    0                 -0.993387\n",
       "1                    2                  0.990609\n",
       "2                    1                 -0.001389\n",
       "3                    1                 -0.001389\n",
       "4                    0                 -0.993387\n",
       "...                ...                       ...\n",
       "9995                 2                  0.990609\n",
       "9996                 0                 -0.993387\n",
       "9997                 2                  0.990609\n",
       "9998                 2                  0.990609\n",
       "9999                 0                 -0.993387\n",
       "\n",
       "[10000 rows x 2 columns]>"
      ]
     },
     "execution_count": 59,
     "metadata": {},
     "output_type": "execute_result"
    }
   ],
   "source": [
    "# Views the variable alongside the new corresponding z-score\n",
    "\n",
    "df[['Full_meals_eaten', 'Z_Score_Full_meals_eaten']].head"
   ]
  },
  {
   "cell_type": "code",
   "execution_count": 60,
   "id": "1dbf95af-87f6-4a88-a9a9-14298a63d40e",
   "metadata": {
    "tags": []
   },
   "outputs": [
    {
     "data": {
      "image/png": "[encoded data removed]",
      "text/plain": [
       "<Figure size 640x480 with 1 Axes>"
      ]
     },
     "metadata": {},
     "output_type": "display_data"
    }
   ],
   "source": [
    "# Creates a box plot to view outliers\n",
    "# These values will be retained as some patients (ex, gastric bypass patients) may not tolerate large meals\n",
    "\n",
    "boxplot=sns.boxplot(x='Full_meals_eaten',data=df)"
   ]
  },
  {
   "cell_type": "code",
   "execution_count": 61,
   "id": "aa0b2b74-aab2-4b5f-b210-e3c13771ded6",
   "metadata": {
    "tags": []
   },
   "outputs": [],
   "source": [
    "# Creates a z-score chart for Vitamin D supplementation\n",
    "\n",
    "df['Z_Score_VitD_supp']=stats.zscore(df['VitD_supp'])"
   ]
  },
  {
   "cell_type": "code",
   "execution_count": 62,
   "id": "d2c031f9-49d2-4efa-9d99-47479e757003",
   "metadata": {
    "tags": []
   },
   "outputs": [
    {
     "data": {
      "text/plain": [
       "<bound method NDFrame.head of       VitD_supp  Z_Score_VitD_supp\n",
       "0             0          -0.634713\n",
       "1             1           0.956445\n",
       "2             0          -0.634713\n",
       "3             0          -0.634713\n",
       "4             2           2.547602\n",
       "...         ...                ...\n",
       "9995          1           0.956445\n",
       "9996          0          -0.634713\n",
       "9997          0          -0.634713\n",
       "9998          1           0.956445\n",
       "9999          1           0.956445\n",
       "\n",
       "[10000 rows x 2 columns]>"
      ]
     },
     "execution_count": 62,
     "metadata": {},
     "output_type": "execute_result"
    }
   ],
   "source": [
    "# Views the variable alongside the new corresponding z-score\n",
    "\n",
    "df[['VitD_supp', 'Z_Score_VitD_supp']].head"
   ]
  },
  {
   "cell_type": "code",
   "execution_count": 63,
   "id": "f2c6b17c-9826-4e1d-b1d3-7371a5306cde",
   "metadata": {
    "tags": []
   },
   "outputs": [
    {
     "data": {
      "image/png": "[encoded data removed]",
      "text/plain": [
       "<Figure size 640x480 with 1 Axes>"
      ]
     },
     "metadata": {},
     "output_type": "display_data"
    }
   ],
   "source": [
    "# Creates a box plot to view outliers\n",
    "# These values will be retained as 5 instances of vitamin D supplementation during a hospital admission is reasonable\n",
    "\n",
    "boxplot=sns.boxplot(x='VitD_supp',data=df)"
   ]
  },
  {
   "cell_type": "code",
   "execution_count": 64,
   "id": "a3886967-11ba-4f0a-834c-21ebe0396032",
   "metadata": {
    "tags": []
   },
   "outputs": [],
   "source": [
    "# Creates a z-score chart for Initial days\n",
    "\n",
    "df['Z_Score_Initial_days']=stats.zscore(df['Initial_days'])"
   ]
  },
  {
   "cell_type": "code",
   "execution_count": 65,
   "id": "803f4435-6f4a-446d-910a-9e1bb2b6cf50",
   "metadata": {
    "tags": []
   },
   "outputs": [
    {
     "data": {
      "text/plain": [
       "<bound method NDFrame.head of       Initial_days  Z_Score_Initial_days\n",
       "0        10.585770             -0.959326\n",
       "1        15.129562             -0.776544\n",
       "2         4.772177             -1.193189\n",
       "3         1.714879             -1.316175\n",
       "4         1.254807             -1.334682\n",
       "...            ...                   ...\n",
       "9995     51.561217              0.688989\n",
       "9996     68.668237              1.377151\n",
       "9997     34.446941              0.000535\n",
       "9998     63.356903              1.163493\n",
       "9999     70.850592              1.464941\n",
       "\n",
       "[10000 rows x 2 columns]>"
      ]
     },
     "execution_count": 65,
     "metadata": {},
     "output_type": "execute_result"
    }
   ],
   "source": [
    "# Views the variable alongside the new corresponding z-score\n",
    "\n",
    "df[['Initial_days', 'Z_Score_Initial_days']].head"
   ]
  },
  {
   "cell_type": "code",
   "execution_count": 66,
   "id": "d1fbf2f9-1c22-4704-b627-609440730f68",
   "metadata": {
    "tags": []
   },
   "outputs": [
    {
     "data": {
      "image/png": "[encoded data removed]",
      "text/plain": [
       "<Figure size 640x480 with 1 Axes>"
      ]
     },
     "metadata": {},
     "output_type": "display_data"
    }
   ],
   "source": [
    "# Creates a box plot to view outliers\n",
    "# No outliers exist in this visualization\n",
    "\n",
    "boxplot=sns.boxplot(x='Initial_days',data=df)"
   ]
  },
  {
   "cell_type": "code",
   "execution_count": 67,
   "id": "5dc73be3-cdc4-411b-92c2-d867dbd62d39",
   "metadata": {
    "tags": []
   },
   "outputs": [],
   "source": [
    "# Creates a z-score chart for total charges\n",
    "\n",
    "df['Z_Score_TotalCharge']=stats.zscore(df['TotalCharge'])"
   ]
  },
  {
   "cell_type": "code",
   "execution_count": 68,
   "id": "7f136b56-a988-49cd-a77e-e75cce0be089",
   "metadata": {
    "tags": []
   },
   "outputs": [
    {
     "data": {
      "text/plain": [
       "<bound method NDFrame.head of       TotalCharge  Z_Score_TotalCharge\n",
       "0     3191.048774            -0.799579\n",
       "1     4214.905346            -0.496429\n",
       "2     2177.586768            -1.099652\n",
       "3     2465.118965            -1.014517\n",
       "4     1885.655137            -1.186089\n",
       "...           ...                  ...\n",
       "9995  6651.241294             0.224938\n",
       "9996  7851.522660             0.580325\n",
       "9997  7725.953391             0.543146\n",
       "9998  8462.831883             0.761326\n",
       "9999  8700.856021             0.831802\n",
       "\n",
       "[10000 rows x 2 columns]>"
      ]
     },
     "execution_count": 68,
     "metadata": {},
     "output_type": "execute_result"
    }
   ],
   "source": [
    "# Views the variable alongside the new corresponding z-score\n",
    "\n",
    "df[['TotalCharge', 'Z_Score_TotalCharge']].head"
   ]
  },
  {
   "cell_type": "code",
   "execution_count": 69,
   "id": "9bc2d24f-cbc9-4566-8aeb-a96efc969e9e",
   "metadata": {
    "tags": []
   },
   "outputs": [
    {
     "data": {
      "image/png": "[encoded data removed]",
      "text/plain": [
       "<Figure size 640x480 with 1 Axes>"
      ]
     },
     "metadata": {},
     "output_type": "display_data"
    }
   ],
   "source": [
    "# Creates a box plot to view outliers\n",
    "# Outliers here will be retained as charges are likely to increase with length of stay and treatment of copmlications\n",
    "\n",
    "boxplot=sns.boxplot(x='TotalCharge',data=df)"
   ]
  },
  {
   "cell_type": "code",
   "execution_count": 70,
   "id": "aa48a401-fc81-4b51-91ad-60df9897d87d",
   "metadata": {
    "tags": []
   },
   "outputs": [],
   "source": [
    "# Creates a z-score chart for additional charges\n",
    "\n",
    "df['Z_Score_Additional_charges']=stats.zscore(df['Additional_charges'])"
   ]
  },
  {
   "cell_type": "code",
   "execution_count": 71,
   "id": "24d23ce5-e6d9-4443-9b22-cdc4b5730dd8",
   "metadata": {
    "tags": []
   },
   "outputs": [
    {
     "data": {
      "text/plain": [
       "<bound method NDFrame.head of       Additional_charges  Z_Score_Additional_charges\n",
       "0           17939.403420                    0.765005\n",
       "1           17612.998120                    0.715114\n",
       "2           17505.192460                    0.698635\n",
       "3           12993.437350                    0.009004\n",
       "4            3716.525786                   -1.408991\n",
       "...                  ...                         ...\n",
       "9995         8927.642189                   -0.612461\n",
       "9996        28507.147340                    2.380307\n",
       "9997        15281.214660                    0.358696\n",
       "9998         7781.678412                   -0.787624\n",
       "9999        11643.189930                   -0.197384\n",
       "\n",
       "[10000 rows x 2 columns]>"
      ]
     },
     "execution_count": 71,
     "metadata": {},
     "output_type": "execute_result"
    }
   ],
   "source": [
    "# Views the variable alongside the new corresponding z-score\n",
    "\n",
    "df[['Additional_charges', 'Z_Score_Additional_charges']].head"
   ]
  },
  {
   "cell_type": "code",
   "execution_count": 72,
   "id": "171e3d24-5d0b-44e1-bfb5-c6aa60116b98",
   "metadata": {
    "tags": []
   },
   "outputs": [
    {
     "data": {
      "image/png": "[encoded data removed]",
      "text/plain": [
       "<Figure size 640x480 with 1 Axes>"
      ]
     },
     "metadata": {},
     "output_type": "display_data"
    }
   ],
   "source": [
    "# Creates a box plot to view outliers\n",
    "# We can retain outliers here as medical complexity and complications may warrant more extensive (and costly) care\n",
    "\n",
    "boxplot=sns.boxplot(x='Additional_charges',data=df)"
   ]
  }
 ],
 "metadata": {
  "kernelspec": {
   "display_name": "Python 3 (ipykernel)",
   "language": "python",
   "name": "python3"
  },
  "language_info": {
   "codemirror_mode": {
    "name": "ipython",
    "version": 3
   },
   "file_extension": ".py",
   "mimetype": "text/x-python",
   "name": "python",
   "nbconvert_exporter": "python",
   "pygments_lexer": "ipython3",
   "version": "3.11.4"
  }
 },
 "nbformat": 4,
 "nbformat_minor": 5
}
