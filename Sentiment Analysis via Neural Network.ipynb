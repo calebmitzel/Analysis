{
 "cells": [
  {
   "cell_type": "code",
   "execution_count": 1,
   "id": "55378ab8-5751-40b1-b171-934d47811308",
   "metadata": {
    "tags": []
   },
   "outputs": [
    {
     "name": "stdout",
     "output_type": "stream",
     "text": [
      "WARNING:tensorflow:From C:\\Users\\caleb\\anaconda3\\Lib\\site-packages\\keras\\src\\losses.py:2976: The name tf.losses.sparse_softmax_cross_entropy is deprecated. Please use tf.compat.v1.losses.sparse_softmax_cross_entropy instead.\n",
      "\n"
     ]
    }
   ],
   "source": [
    "# Imports all packages necessary or useful\n",
    "\n",
    "import os\n",
    "import pandas as pd\n",
    "import numpy as np\n",
    "import csv\n",
    "import re\n",
    "import matplotlib.pyplot as plt\n",
    "import seaborn as sns\n",
    "from sklearn.model_selection import train_test_split\n",
    "import nltk\n",
    "# only necessary first run: nltk.download()\n",
    "from nltk.tokenize import word_tokenize\n",
    "from nltk.corpus import stopwords\n",
    "from nltk.stem import WordNetLemmatizer\n",
    "import tensorflow as tf\n",
    "import tensorflow.keras\n",
    "from tensorflow.keras import *\n",
    "import tensorflow.keras.preprocessing \n",
    "from tensorflow.keras.preprocessing.text import Tokenizer\n",
    "from keras.preprocessing import sequence\n",
    "from tensorflow.keras.preprocessing.sequence import pad_sequences\n",
    "from keras.layers import Embedding\n",
    "from tensorflow.keras.layers import LSTM, Dense, Dropout\n",
    "import warnings\n",
    "warnings.filterwarnings(\"ignore\")"
   ]
  },
  {
   "cell_type": "code",
   "execution_count": 2,
   "id": "f172b845-5262-4ce1-92f4-efaf485bd028",
   "metadata": {
    "tags": []
   },
   "outputs": [
    {
     "data": {
      "text/plain": [
       "'C:\\\\Users\\\\caleb\\\\OneDrive\\\\Desktop\\\\WGU\\\\D213 - Advanced Data Analytics\\\\sentiment labelled sentences'"
      ]
     },
     "execution_count": 2,
     "metadata": {},
     "output_type": "execute_result"
    }
   ],
   "source": [
    "# Sets our working directory\n",
    "\n",
    "os.chdir(r\"C:\\Users\\caleb\\OneDrive\\Desktop\\WGU\\D213 - Advanced Data Analytics\\sentiment labelled sentences\")\n",
    "os.getcwd()"
   ]
  },
  {
   "cell_type": "code",
   "execution_count": 3,
   "id": "1b14b894-8f59-4f0c-af7b-c41c4d889f79",
   "metadata": {
    "tags": []
   },
   "outputs": [],
   "source": [
    "# Removes the column width limit so we can explore values in their entirety\n",
    "\n",
    "pd.set_option('display.max_colwidth', 0)"
   ]
  },
  {
   "cell_type": "code",
   "execution_count": 4,
   "id": "64bfc3ef-41a6-4ebd-8264-8086e93d185d",
   "metadata": {
    "tags": []
   },
   "outputs": [
    {
     "data": {
      "text/html": [
       "<div>\n",
       "<style scoped>\n",
       "    .dataframe tbody tr th:only-of-type {\n",
       "        vertical-align: middle;\n",
       "    }\n",
       "\n",
       "    .dataframe tbody tr th {\n",
       "        vertical-align: top;\n",
       "    }\n",
       "\n",
       "    .dataframe thead th {\n",
       "        text-align: right;\n",
       "    }\n",
       "</style>\n",
       "<table border=\"1\" class=\"dataframe\">\n",
       "  <thead>\n",
       "    <tr style=\"text-align: right;\">\n",
       "      <th></th>\n",
       "      <th>Review</th>\n",
       "      <th>Sentiment</th>\n",
       "    </tr>\n",
       "  </thead>\n",
       "  <tbody>\n",
       "    <tr>\n",
       "      <th>0</th>\n",
       "      <td>So there is no way for me to plug it in here in the US unless I go by a converter.</td>\n",
       "      <td>0</td>\n",
       "    </tr>\n",
       "    <tr>\n",
       "      <th>1</th>\n",
       "      <td>Good case, Excellent value.</td>\n",
       "      <td>1</td>\n",
       "    </tr>\n",
       "    <tr>\n",
       "      <th>2</th>\n",
       "      <td>Great for the jawbone.</td>\n",
       "      <td>1</td>\n",
       "    </tr>\n",
       "    <tr>\n",
       "      <th>3</th>\n",
       "      <td>Tied to charger for conversations lasting more than 45 minutes.MAJOR PROBLEMS!!</td>\n",
       "      <td>0</td>\n",
       "    </tr>\n",
       "    <tr>\n",
       "      <th>4</th>\n",
       "      <td>The mic is great.</td>\n",
       "      <td>1</td>\n",
       "    </tr>\n",
       "  </tbody>\n",
       "</table>\n",
       "</div>"
      ],
      "text/plain": [
       "                                                                               Review  \\\n",
       "0  So there is no way for me to plug it in here in the US unless I go by a converter.   \n",
       "1  Good case, Excellent value.                                                          \n",
       "2  Great for the jawbone.                                                               \n",
       "3  Tied to charger for conversations lasting more than 45 minutes.MAJOR PROBLEMS!!      \n",
       "4  The mic is great.                                                                    \n",
       "\n",
       "   Sentiment  \n",
       "0  0          \n",
       "1  1          \n",
       "2  1          \n",
       "3  0          \n",
       "4  1          "
      ]
     },
     "execution_count": 4,
     "metadata": {},
     "output_type": "execute_result"
    }
   ],
   "source": [
    "# Imports our Amazon data\n",
    "\n",
    "df_a = pd.read_csv(r\"amazon_cells_labelled.txt\", sep = '\\t', header = None, quoting = csv.QUOTE_NONE, names = ['Review', 'Sentiment'])\n",
    "df_a.head()"
   ]
  },
  {
   "cell_type": "code",
   "execution_count": 5,
   "id": "51edefad-5e57-4852-86cc-429a1907599c",
   "metadata": {
    "tags": []
   },
   "outputs": [
    {
     "data": {
      "image/png": "[encoded data removed]",
      "text/plain": [
       "<Figure size 640x480 with 1 Axes>"
      ]
     },
     "metadata": {},
     "output_type": "display_data"
    }
   ],
   "source": [
    "# Visualizes our Amazon data set \n",
    "\n",
    "sns.countplot(x='Sentiment', data=df_a)\n",
    "plt.show()"
   ]
  },
  {
   "cell_type": "code",
   "execution_count": 6,
   "id": "75d46877-2c5f-4783-a847-a97a9db16f2c",
   "metadata": {
    "tags": []
   },
   "outputs": [
    {
     "data": {
      "text/html": [
       "<div>\n",
       "<style scoped>\n",
       "    .dataframe tbody tr th:only-of-type {\n",
       "        vertical-align: middle;\n",
       "    }\n",
       "\n",
       "    .dataframe tbody tr th {\n",
       "        vertical-align: top;\n",
       "    }\n",
       "\n",
       "    .dataframe thead th {\n",
       "        text-align: right;\n",
       "    }\n",
       "</style>\n",
       "<table border=\"1\" class=\"dataframe\">\n",
       "  <thead>\n",
       "    <tr style=\"text-align: right;\">\n",
       "      <th></th>\n",
       "      <th>Review</th>\n",
       "      <th>Sentiment</th>\n",
       "    </tr>\n",
       "  </thead>\n",
       "  <tbody>\n",
       "    <tr>\n",
       "      <th>0</th>\n",
       "      <td>A very, very, very slow-moving, aimless movie about a distressed, drifting young man.</td>\n",
       "      <td>0</td>\n",
       "    </tr>\n",
       "    <tr>\n",
       "      <th>1</th>\n",
       "      <td>Not sure who was more lost - the flat characters or the audience, nearly half of whom walked out.</td>\n",
       "      <td>0</td>\n",
       "    </tr>\n",
       "    <tr>\n",
       "      <th>2</th>\n",
       "      <td>Attempting artiness with black &amp; white and clever camera angles, the movie disappointed - became even more ridiculous - as the acting was poor and the plot and lines almost non-existent.</td>\n",
       "      <td>0</td>\n",
       "    </tr>\n",
       "    <tr>\n",
       "      <th>3</th>\n",
       "      <td>Very little music or anything to speak of.</td>\n",
       "      <td>0</td>\n",
       "    </tr>\n",
       "    <tr>\n",
       "      <th>4</th>\n",
       "      <td>The best scene in the movie was when Gerardo is trying to find a song that keeps running through his head.</td>\n",
       "      <td>1</td>\n",
       "    </tr>\n",
       "  </tbody>\n",
       "</table>\n",
       "</div>"
      ],
      "text/plain": [
       "                                                                                                                                                                                         Review  \\\n",
       "0  A very, very, very slow-moving, aimless movie about a distressed, drifting young man.                                                                                                          \n",
       "1  Not sure who was more lost - the flat characters or the audience, nearly half of whom walked out.                                                                                              \n",
       "2  Attempting artiness with black & white and clever camera angles, the movie disappointed - became even more ridiculous - as the acting was poor and the plot and lines almost non-existent.     \n",
       "3  Very little music or anything to speak of.                                                                                                                                                     \n",
       "4  The best scene in the movie was when Gerardo is trying to find a song that keeps running through his head.                                                                                     \n",
       "\n",
       "   Sentiment  \n",
       "0  0          \n",
       "1  0          \n",
       "2  0          \n",
       "3  0          \n",
       "4  1          "
      ]
     },
     "execution_count": 6,
     "metadata": {},
     "output_type": "execute_result"
    }
   ],
   "source": [
    "# Imports our IMDB data\n",
    "\n",
    "df_i = pd.read_csv(r\"imdb_labelled.txt\", sep = '\\t', header = None, quoting = csv.QUOTE_NONE, names = ['Review', 'Sentiment'])\n",
    "df_i.head()"
   ]
  },
  {
   "cell_type": "code",
   "execution_count": 7,
   "id": "ce836efb-e171-4a58-832f-c51e03c1aae3",
   "metadata": {
    "tags": []
   },
   "outputs": [
    {
     "data": {
      "image/png": "[encoded data removed]",
      "text/plain": [
       "<Figure size 640x480 with 1 Axes>"
      ]
     },
     "metadata": {},
     "output_type": "display_data"
    }
   ],
   "source": [
    "# Visualizes our IMDB data set \n",
    "\n",
    "sns.countplot(x='Sentiment', data=df_i)\n",
    "plt.show()"
   ]
  },
  {
   "cell_type": "code",
   "execution_count": 8,
   "id": "e0e44971-c221-417b-9a68-c772b25040bc",
   "metadata": {
    "tags": []
   },
   "outputs": [
    {
     "data": {
      "text/html": [
       "<div>\n",
       "<style scoped>\n",
       "    .dataframe tbody tr th:only-of-type {\n",
       "        vertical-align: middle;\n",
       "    }\n",
       "\n",
       "    .dataframe tbody tr th {\n",
       "        vertical-align: top;\n",
       "    }\n",
       "\n",
       "    .dataframe thead th {\n",
       "        text-align: right;\n",
       "    }\n",
       "</style>\n",
       "<table border=\"1\" class=\"dataframe\">\n",
       "  <thead>\n",
       "    <tr style=\"text-align: right;\">\n",
       "      <th></th>\n",
       "      <th>Review</th>\n",
       "      <th>Sentiment</th>\n",
       "    </tr>\n",
       "  </thead>\n",
       "  <tbody>\n",
       "    <tr>\n",
       "      <th>0</th>\n",
       "      <td>Wow... Loved this place.</td>\n",
       "      <td>1</td>\n",
       "    </tr>\n",
       "    <tr>\n",
       "      <th>1</th>\n",
       "      <td>Crust is not good.</td>\n",
       "      <td>0</td>\n",
       "    </tr>\n",
       "    <tr>\n",
       "      <th>2</th>\n",
       "      <td>Not tasty and the texture was just nasty.</td>\n",
       "      <td>0</td>\n",
       "    </tr>\n",
       "    <tr>\n",
       "      <th>3</th>\n",
       "      <td>Stopped by during the late May bank holiday off Rick Steve recommendation and loved it.</td>\n",
       "      <td>1</td>\n",
       "    </tr>\n",
       "    <tr>\n",
       "      <th>4</th>\n",
       "      <td>The selection on the menu was great and so were the prices.</td>\n",
       "      <td>1</td>\n",
       "    </tr>\n",
       "  </tbody>\n",
       "</table>\n",
       "</div>"
      ],
      "text/plain": [
       "                                                                                    Review  \\\n",
       "0  Wow... Loved this place.                                                                  \n",
       "1  Crust is not good.                                                                        \n",
       "2  Not tasty and the texture was just nasty.                                                 \n",
       "3  Stopped by during the late May bank holiday off Rick Steve recommendation and loved it.   \n",
       "4  The selection on the menu was great and so were the prices.                               \n",
       "\n",
       "   Sentiment  \n",
       "0  1          \n",
       "1  0          \n",
       "2  0          \n",
       "3  1          \n",
       "4  1          "
      ]
     },
     "execution_count": 8,
     "metadata": {},
     "output_type": "execute_result"
    }
   ],
   "source": [
    "# Imports our yelp data\n",
    "\n",
    "df_y = pd.read_csv(r\"yelp_labelled.txt\", sep = '\\t', header = None, quoting = csv.QUOTE_NONE, names = ['Review', 'Sentiment'])\n",
    "df_y.head()"
   ]
  },
  {
   "cell_type": "code",
   "execution_count": 9,
   "id": "409d1e5e-4285-4b44-9fb8-28a8fb488015",
   "metadata": {
    "tags": []
   },
   "outputs": [
    {
     "data": {
      "image/png": "[encoded data removed]",
      "text/plain": [
       "<Figure size 640x480 with 1 Axes>"
      ]
     },
     "metadata": {},
     "output_type": "display_data"
    }
   ],
   "source": [
    "# Visualizes our yelp data set \n",
    "\n",
    "sns.countplot(x='Sentiment', data=df_y)\n",
    "plt.show()"
   ]
  },
  {
   "cell_type": "code",
   "execution_count": 10,
   "id": "4dd45d75-cdaf-486b-a719-1e85cc5226f7",
   "metadata": {
    "tags": []
   },
   "outputs": [
    {
     "data": {
      "text/html": [
       "<div>\n",
       "<style scoped>\n",
       "    .dataframe tbody tr th:only-of-type {\n",
       "        vertical-align: middle;\n",
       "    }\n",
       "\n",
       "    .dataframe tbody tr th {\n",
       "        vertical-align: top;\n",
       "    }\n",
       "\n",
       "    .dataframe thead th {\n",
       "        text-align: right;\n",
       "    }\n",
       "</style>\n",
       "<table border=\"1\" class=\"dataframe\">\n",
       "  <thead>\n",
       "    <tr style=\"text-align: right;\">\n",
       "      <th></th>\n",
       "      <th>Review</th>\n",
       "      <th>Sentiment</th>\n",
       "    </tr>\n",
       "  </thead>\n",
       "  <tbody>\n",
       "    <tr>\n",
       "      <th>0</th>\n",
       "      <td>So there is no way for me to plug it in here in the US unless I go by a converter.</td>\n",
       "      <td>0</td>\n",
       "    </tr>\n",
       "    <tr>\n",
       "      <th>1</th>\n",
       "      <td>Good case, Excellent value.</td>\n",
       "      <td>1</td>\n",
       "    </tr>\n",
       "    <tr>\n",
       "      <th>2</th>\n",
       "      <td>Great for the jawbone.</td>\n",
       "      <td>1</td>\n",
       "    </tr>\n",
       "    <tr>\n",
       "      <th>3</th>\n",
       "      <td>Tied to charger for conversations lasting more than 45 minutes.MAJOR PROBLEMS!!</td>\n",
       "      <td>0</td>\n",
       "    </tr>\n",
       "    <tr>\n",
       "      <th>4</th>\n",
       "      <td>The mic is great.</td>\n",
       "      <td>1</td>\n",
       "    </tr>\n",
       "  </tbody>\n",
       "</table>\n",
       "</div>"
      ],
      "text/plain": [
       "                                                                               Review  \\\n",
       "0  So there is no way for me to plug it in here in the US unless I go by a converter.   \n",
       "1  Good case, Excellent value.                                                          \n",
       "2  Great for the jawbone.                                                               \n",
       "3  Tied to charger for conversations lasting more than 45 minutes.MAJOR PROBLEMS!!      \n",
       "4  The mic is great.                                                                    \n",
       "\n",
       "   Sentiment  \n",
       "0  0          \n",
       "1  1          \n",
       "2  1          \n",
       "3  0          \n",
       "4  1          "
      ]
     },
     "execution_count": 10,
     "metadata": {},
     "output_type": "execute_result"
    }
   ],
   "source": [
    "# Combines our 3 data sets into a single dataframe\n",
    "\n",
    "df = pd.concat([df_a, df_i, df_y], ignore_index = True)\n",
    "df.head()"
   ]
  },
  {
   "cell_type": "code",
   "execution_count": 11,
   "id": "3d7709f9-963f-410f-a3dc-66f1cc24074f",
   "metadata": {
    "tags": []
   },
   "outputs": [
    {
     "data": {
      "text/plain": [
       "Review       0\n",
       "Sentiment    0\n",
       "dtype: int64"
      ]
     },
     "execution_count": 11,
     "metadata": {},
     "output_type": "execute_result"
    }
   ],
   "source": [
    "# Checks for null values\n",
    "\n",
    "df.isnull().sum()"
   ]
  },
  {
   "cell_type": "code",
   "execution_count": 12,
   "id": "7deb56f4-83c9-4120-bd5a-9e0c2a65d3e1",
   "metadata": {
    "tags": []
   },
   "outputs": [
    {
     "data": {
      "text/html": [
       "<div>\n",
       "<style scoped>\n",
       "    .dataframe tbody tr th:only-of-type {\n",
       "        vertical-align: middle;\n",
       "    }\n",
       "\n",
       "    .dataframe tbody tr th {\n",
       "        vertical-align: top;\n",
       "    }\n",
       "\n",
       "    .dataframe thead th {\n",
       "        text-align: right;\n",
       "    }\n",
       "</style>\n",
       "<table border=\"1\" class=\"dataframe\">\n",
       "  <thead>\n",
       "    <tr style=\"text-align: right;\">\n",
       "      <th></th>\n",
       "      <th>Review</th>\n",
       "      <th>Sentiment</th>\n",
       "    </tr>\n",
       "  </thead>\n",
       "  <tbody>\n",
       "    <tr>\n",
       "      <th>0</th>\n",
       "      <td>So there is no way for me to plug it in here in the US unless I go by a converter.</td>\n",
       "      <td>0</td>\n",
       "    </tr>\n",
       "    <tr>\n",
       "      <th>1</th>\n",
       "      <td>Good case, Excellent value.</td>\n",
       "      <td>1</td>\n",
       "    </tr>\n",
       "    <tr>\n",
       "      <th>2</th>\n",
       "      <td>Great for the jawbone.</td>\n",
       "      <td>1</td>\n",
       "    </tr>\n",
       "    <tr>\n",
       "      <th>3</th>\n",
       "      <td>Tied to charger for conversations lasting more than 45 minutes.MAJOR PROBLEMS!!</td>\n",
       "      <td>0</td>\n",
       "    </tr>\n",
       "    <tr>\n",
       "      <th>4</th>\n",
       "      <td>The mic is great.</td>\n",
       "      <td>1</td>\n",
       "    </tr>\n",
       "  </tbody>\n",
       "</table>\n",
       "</div>"
      ],
      "text/plain": [
       "                                                                               Review  \\\n",
       "0  So there is no way for me to plug it in here in the US unless I go by a converter.   \n",
       "1  Good case, Excellent value.                                                          \n",
       "2  Great for the jawbone.                                                               \n",
       "3  Tied to charger for conversations lasting more than 45 minutes.MAJOR PROBLEMS!!      \n",
       "4  The mic is great.                                                                    \n",
       "\n",
       "   Sentiment  \n",
       "0  0          \n",
       "1  1          \n",
       "2  1          \n",
       "3  0          \n",
       "4  1          "
      ]
     },
     "execution_count": 12,
     "metadata": {},
     "output_type": "execute_result"
    }
   ],
   "source": [
    "# Drops null values\n",
    "\n",
    "df = df.dropna()\n",
    "df.head()"
   ]
  },
  {
   "cell_type": "code",
   "execution_count": 13,
   "id": "c1661642-814b-49dd-a5ca-64dd135cceba",
   "metadata": {
    "tags": []
   },
   "outputs": [
    {
     "data": {
      "image/png": "[encoded data removed]",
      "text/plain": [
       "<Figure size 640x480 with 1 Axes>"
      ]
     },
     "metadata": {},
     "output_type": "display_data"
    }
   ],
   "source": [
    "# Visualizes our combined data set \n",
    "\n",
    "sns.countplot(x='Sentiment', data=df)\n",
    "plt.show()"
   ]
  },
  {
   "cell_type": "code",
   "execution_count": 14,
   "id": "56f362a9-061d-477f-98f8-6ec16c8dfb9a",
   "metadata": {
    "tags": []
   },
   "outputs": [
    {
     "data": {
      "text/html": [
       "<div>\n",
       "<style scoped>\n",
       "    .dataframe tbody tr th:only-of-type {\n",
       "        vertical-align: middle;\n",
       "    }\n",
       "\n",
       "    .dataframe tbody tr th {\n",
       "        vertical-align: top;\n",
       "    }\n",
       "\n",
       "    .dataframe thead th {\n",
       "        text-align: right;\n",
       "    }\n",
       "</style>\n",
       "<table border=\"1\" class=\"dataframe\">\n",
       "  <thead>\n",
       "    <tr style=\"text-align: right;\">\n",
       "      <th></th>\n",
       "      <th>Review</th>\n",
       "      <th>Sentiment</th>\n",
       "    </tr>\n",
       "  </thead>\n",
       "  <tbody>\n",
       "    <tr>\n",
       "      <th>0</th>\n",
       "      <td>so there is no way for me to plug it in here in the us unless i go by a converter.</td>\n",
       "      <td>0</td>\n",
       "    </tr>\n",
       "    <tr>\n",
       "      <th>1</th>\n",
       "      <td>good case, excellent value.</td>\n",
       "      <td>1</td>\n",
       "    </tr>\n",
       "    <tr>\n",
       "      <th>2</th>\n",
       "      <td>great for the jawbone.</td>\n",
       "      <td>1</td>\n",
       "    </tr>\n",
       "    <tr>\n",
       "      <th>3</th>\n",
       "      <td>tied to charger for conversations lasting more than 45 minutes.major problems!!</td>\n",
       "      <td>0</td>\n",
       "    </tr>\n",
       "    <tr>\n",
       "      <th>4</th>\n",
       "      <td>the mic is great.</td>\n",
       "      <td>1</td>\n",
       "    </tr>\n",
       "    <tr>\n",
       "      <th>...</th>\n",
       "      <td>...</td>\n",
       "      <td>...</td>\n",
       "    </tr>\n",
       "    <tr>\n",
       "      <th>2995</th>\n",
       "      <td>i think food should have flavor and texture and both were lacking.</td>\n",
       "      <td>0</td>\n",
       "    </tr>\n",
       "    <tr>\n",
       "      <th>2996</th>\n",
       "      <td>appetite instantly gone.</td>\n",
       "      <td>0</td>\n",
       "    </tr>\n",
       "    <tr>\n",
       "      <th>2997</th>\n",
       "      <td>overall i was not impressed and would not go back.</td>\n",
       "      <td>0</td>\n",
       "    </tr>\n",
       "    <tr>\n",
       "      <th>2998</th>\n",
       "      <td>the whole experience was underwhelming, and i think we'll just go to ninja sushi next time.</td>\n",
       "      <td>0</td>\n",
       "    </tr>\n",
       "    <tr>\n",
       "      <th>2999</th>\n",
       "      <td>then, as if i hadn't wasted enough of my life there, they poured salt in the wound by drawing out the time it took to bring the check.</td>\n",
       "      <td>0</td>\n",
       "    </tr>\n",
       "  </tbody>\n",
       "</table>\n",
       "<p>3000 rows × 2 columns</p>\n",
       "</div>"
      ],
      "text/plain": [
       "                                                                                                                                      Review  \\\n",
       "0     so there is no way for me to plug it in here in the us unless i go by a converter.                                                       \n",
       "1     good case, excellent value.                                                                                                              \n",
       "2     great for the jawbone.                                                                                                                   \n",
       "3     tied to charger for conversations lasting more than 45 minutes.major problems!!                                                          \n",
       "4     the mic is great.                                                                                                                        \n",
       "...                 ...                                                                                                                        \n",
       "2995  i think food should have flavor and texture and both were lacking.                                                                       \n",
       "2996  appetite instantly gone.                                                                                                                 \n",
       "2997  overall i was not impressed and would not go back.                                                                                       \n",
       "2998  the whole experience was underwhelming, and i think we'll just go to ninja sushi next time.                                              \n",
       "2999  then, as if i hadn't wasted enough of my life there, they poured salt in the wound by drawing out the time it took to bring the check.   \n",
       "\n",
       "      Sentiment  \n",
       "0     0          \n",
       "1     1          \n",
       "2     1          \n",
       "3     0          \n",
       "4     1          \n",
       "...  ..          \n",
       "2995  0          \n",
       "2996  0          \n",
       "2997  0          \n",
       "2998  0          \n",
       "2999  0          \n",
       "\n",
       "[3000 rows x 2 columns]"
      ]
     },
     "execution_count": 14,
     "metadata": {},
     "output_type": "execute_result"
    }
   ],
   "source": [
    "# Converts all capitalization in 'Review' to lower case to allow for faster tokenization (vs processing lower plus upper case)\n",
    "\n",
    "df['Review'] = df['Review'].str.lower()\n",
    "df"
   ]
  },
  {
   "cell_type": "code",
   "execution_count": 15,
   "id": "94eb14f2-bb06-4b64-bb68-22673b25aba8",
   "metadata": {
    "tags": []
   },
   "outputs": [
    {
     "name": "stdout",
     "output_type": "stream",
     "text": [
      "['s', 'o', ' ', 't', 'h', 'e', 'r', 'i', 'n', 'w', 'a', 'y', 'f', 'm', 'p', 'l', 'u', 'g', 'b', 'c', 'v', '.', 'd', ',', 'x', 'j', '4', '5', '!', 'z', 'q', '+', '\"', 'k', \"'\", '/', '7', '3', '6', '8', '0', '2', '?', '-', '1', ':', ')', '(', '&', '$', '*', ';', '%', '9', '#', '[', ']', '\\x96', 'é', '\\x85', 'å', '\\x97', 'ê']\n"
     ]
    }
   ],
   "source": [
    "# Lists character count for our combined data to see if any unusual characters exist that can be eliminated later\n",
    "\n",
    "commentary = df['Review']\n",
    "list_of_characters = []\n",
    "for comment in commentary: \n",
    "    for character in comment: \n",
    "        if character not in list_of_characters: \n",
    "            list_of_characters.append(character)\n",
    "print(list_of_characters)"
   ]
  },
  {
   "cell_type": "code",
   "execution_count": 16,
   "id": "8cfdd9f4-4fae-402a-817c-99c11366fe64",
   "metadata": {
    "tags": []
   },
   "outputs": [
    {
     "name": "stdout",
     "output_type": "stream",
     "text": [
      "Min sequence length:  1\n",
      "Max sequence length:  73\n",
      "Median sequence length:  11.0\n"
     ]
    }
   ],
   "source": [
    "# Identifies review length by number of words\n",
    "\n",
    "reviews = df['Review']\n",
    "review_length = []\n",
    "for char_len in reviews:\n",
    "    review_length.append(len(char_len.split(\" \")))\n",
    "\n",
    "review_min = np.min(review_length)\n",
    "review_max = np.max(review_length)\n",
    "review_median = np.median(review_length)\n",
    "print(\"Min sequence length: \", review_min)\n",
    "print(\"Max sequence length: \", review_max)\n",
    "print(\"Median sequence length: \", review_median)"
   ]
  },
  {
   "cell_type": "code",
   "execution_count": 17,
   "id": "b8d165d4-a565-4493-be49-b79a8a246116",
   "metadata": {
    "tags": []
   },
   "outputs": [
    {
     "data": {
      "text/html": [
       "<div>\n",
       "<style scoped>\n",
       "    .dataframe tbody tr th:only-of-type {\n",
       "        vertical-align: middle;\n",
       "    }\n",
       "\n",
       "    .dataframe tbody tr th {\n",
       "        vertical-align: top;\n",
       "    }\n",
       "\n",
       "    .dataframe thead th {\n",
       "        text-align: right;\n",
       "    }\n",
       "</style>\n",
       "<table border=\"1\" class=\"dataframe\">\n",
       "  <thead>\n",
       "    <tr style=\"text-align: right;\">\n",
       "      <th></th>\n",
       "      <th>Review</th>\n",
       "      <th>Sentiment</th>\n",
       "    </tr>\n",
       "  </thead>\n",
       "  <tbody>\n",
       "    <tr>\n",
       "      <th>0</th>\n",
       "      <td>so there is no way for me to plug it in here in the us unless i go by a converter</td>\n",
       "      <td>0</td>\n",
       "    </tr>\n",
       "    <tr>\n",
       "      <th>1</th>\n",
       "      <td>good case excellent value</td>\n",
       "      <td>1</td>\n",
       "    </tr>\n",
       "    <tr>\n",
       "      <th>2</th>\n",
       "      <td>great for the jawbone</td>\n",
       "      <td>1</td>\n",
       "    </tr>\n",
       "    <tr>\n",
       "      <th>3</th>\n",
       "      <td>tied to charger for conversations lasting more than 45 minutesmajor problems</td>\n",
       "      <td>0</td>\n",
       "    </tr>\n",
       "    <tr>\n",
       "      <th>4</th>\n",
       "      <td>the mic is great</td>\n",
       "      <td>1</td>\n",
       "    </tr>\n",
       "    <tr>\n",
       "      <th>...</th>\n",
       "      <td>...</td>\n",
       "      <td>...</td>\n",
       "    </tr>\n",
       "    <tr>\n",
       "      <th>2995</th>\n",
       "      <td>i think food should have flavor and texture and both were lacking</td>\n",
       "      <td>0</td>\n",
       "    </tr>\n",
       "    <tr>\n",
       "      <th>2996</th>\n",
       "      <td>appetite instantly gone</td>\n",
       "      <td>0</td>\n",
       "    </tr>\n",
       "    <tr>\n",
       "      <th>2997</th>\n",
       "      <td>overall i was not impressed and would not go back</td>\n",
       "      <td>0</td>\n",
       "    </tr>\n",
       "    <tr>\n",
       "      <th>2998</th>\n",
       "      <td>the whole experience was underwhelming and i think well just go to ninja sushi next time</td>\n",
       "      <td>0</td>\n",
       "    </tr>\n",
       "    <tr>\n",
       "      <th>2999</th>\n",
       "      <td>then as if i hadnt wasted enough of my life there they poured salt in the wound by drawing out the time it took to bring the check</td>\n",
       "      <td>0</td>\n",
       "    </tr>\n",
       "  </tbody>\n",
       "</table>\n",
       "<p>3000 rows × 2 columns</p>\n",
       "</div>"
      ],
      "text/plain": [
       "                                                                                                                                  Review  \\\n",
       "0     so there is no way for me to plug it in here in the us unless i go by a converter                                                    \n",
       "1     good case excellent value                                                                                                            \n",
       "2     great for the jawbone                                                                                                                \n",
       "3     tied to charger for conversations lasting more than 45 minutesmajor problems                                                         \n",
       "4     the mic is great                                                                                                                     \n",
       "...                ...                                                                                                                     \n",
       "2995  i think food should have flavor and texture and both were lacking                                                                    \n",
       "2996  appetite instantly gone                                                                                                              \n",
       "2997  overall i was not impressed and would not go back                                                                                    \n",
       "2998  the whole experience was underwhelming and i think well just go to ninja sushi next time                                             \n",
       "2999  then as if i hadnt wasted enough of my life there they poured salt in the wound by drawing out the time it took to bring the check   \n",
       "\n",
       "      Sentiment  \n",
       "0     0          \n",
       "1     1          \n",
       "2     1          \n",
       "3     0          \n",
       "4     1          \n",
       "...  ..          \n",
       "2995  0          \n",
       "2996  0          \n",
       "2997  0          \n",
       "2998  0          \n",
       "2999  0          \n",
       "\n",
       "[3000 rows x 2 columns]"
      ]
     },
     "execution_count": 17,
     "metadata": {},
     "output_type": "execute_result"
    }
   ],
   "source": [
    "# Removes puncuation\n",
    "\n",
    "punc = re.compile(r'[^\\w\\s]+')\n",
    "df['Review'] = [punc.sub('', x) for x in df['Review'].tolist()]\n",
    "df"
   ]
  },
  {
   "cell_type": "code",
   "execution_count": 18,
   "id": "78652dce-8a03-4ab5-a593-1c239213ad8d",
   "metadata": {
    "tags": []
   },
   "outputs": [],
   "source": [
    "# Sets stop words\n",
    "\n",
    "stop_words = set(stopwords.words('english'))\n",
    "\n",
    "data_set = []\n",
    "for sentence in df['Review']:\n",
    "    data_set.append([word for word in word_tokenize(sentence) if word not in stop_words])"
   ]
  },
  {
   "cell_type": "code",
   "execution_count": 19,
   "id": "eb36bfca-3ce2-4074-8dee-b2ac7db26986",
   "metadata": {
    "tags": []
   },
   "outputs": [],
   "source": [
    "# Tokenizes our data\n",
    "\n",
    "x = data_set\n",
    "tokenizer = Tokenizer(num_words = 50000)\n",
    "tokenizer.fit_on_texts(x)\n",
    "x = tokenizer.texts_to_sequences(x)"
   ]
  },
  {
   "cell_type": "code",
   "execution_count": 20,
   "id": "7be7093c-0d78-45e0-90d5-129295219454",
   "metadata": {
    "tags": []
   },
   "outputs": [
    {
     "name": "stdout",
     "output_type": "stream",
     "text": [
      "5277\n"
     ]
    }
   ],
   "source": [
    "# Gives us a unique word count plus one placeholder for OOV (out of vocabulary) words in our lexicon\n",
    "\n",
    "print(len(tokenizer.word_index) + 1)"
   ]
  },
  {
   "cell_type": "code",
   "execution_count": 21,
   "id": "39f1c040-49e5-4af1-864e-73165731ac87",
   "metadata": {
    "tags": []
   },
   "outputs": [],
   "source": [
    "# Truncates our data via lemmatization (vs stemming)\n",
    "\n",
    "lemmatizer = WordNetLemmatizer()\n",
    "\n",
    "def lem (token_text):\n",
    "    text = [lemmatizer.lemmatize(word) for word in token_text]\n",
    "    return text\n",
    "\n",
    "df['Review'].apply(lambda x: lem(x))\n",
    "df['Lemmatized Words'] = [len(x.split()) for x in df['Review'].tolist()]\n",
    "df['Lemmatized Characters'] = df['Review'].apply(len)"
   ]
  },
  {
   "cell_type": "code",
   "execution_count": 22,
   "id": "0f5b7148-4db9-4768-b3fb-6ef7513fed81",
   "metadata": {
    "tags": []
   },
   "outputs": [
    {
     "name": "stdout",
     "output_type": "stream",
     "text": [
      "(3000, 73)\n"
     ]
    }
   ],
   "source": [
    "# Pads our data\n",
    "\n",
    "max_length = 73\n",
    "x = pad_sequences(x, maxlen = max_length, padding = 'post', truncating = 'post')\n",
    "print(x.shape)"
   ]
  },
  {
   "cell_type": "code",
   "execution_count": 23,
   "id": "283910d8-bdf1-496b-bc6d-01244eeb783d",
   "metadata": {
    "tags": []
   },
   "outputs": [
    {
     "name": "stdout",
     "output_type": "stream",
     "text": [
      "[[  45  269   96 ...    0    0    0]\n",
      " [   1   70   35 ...    0    0    0]\n",
      " [   2  948    0 ...    0    0    0]\n",
      " ...\n",
      " [ 193  145   16 ...    0    0    0]\n",
      " [ 261   81 1976 ...    0    0    0]\n",
      " [1655  332   55 ...    0    0    0]]\n"
     ]
    }
   ],
   "source": [
    "# Confirms tokenization and padding\n",
    "\n",
    "print(x)"
   ]
  },
  {
   "cell_type": "code",
   "execution_count": 24,
   "id": "03d1b960-5958-4818-b3e0-3aeb75128c2f",
   "metadata": {
    "tags": []
   },
   "outputs": [
    {
     "name": "stdout",
     "output_type": "stream",
     "text": [
      "(1500, 73) (750, 73) (750, 73)\n"
     ]
    }
   ],
   "source": [
    "# Splits our data into training, validation, and testing sets\n",
    "\n",
    "y = df['Sentiment']\n",
    "\n",
    "train_pct = 0.5\n",
    "test_pct = 0.25\n",
    "validation_pct = 0.25\n",
    "\n",
    "X_train, X_test, y_train, y_test = train_test_split(x, y, test_size=1 - train_pct, random_state = 43, shuffle = False)\n",
    "\n",
    "X_val, X_test, y_val, y_test = train_test_split(X_test, y_test, test_size=test_pct/(test_pct + validation_pct), random_state = 43, shuffle = False) \n",
    "\n",
    "print(X_train.shape, X_test.shape, X_val.shape)"
   ]
  },
  {
   "cell_type": "code",
   "execution_count": 25,
   "id": "6b3371c7-967b-4b53-a402-0d1d6056a924",
   "metadata": {
    "tags": []
   },
   "outputs": [
    {
     "name": "stdout",
     "output_type": "stream",
     "text": [
      "WARNING:tensorflow:From C:\\Users\\caleb\\anaconda3\\Lib\\site-packages\\keras\\src\\backend.py:873: The name tf.get_default_graph is deprecated. Please use tf.compat.v1.get_default_graph instead.\n",
      "\n",
      "WARNING:tensorflow:From C:\\Users\\caleb\\anaconda3\\Lib\\site-packages\\keras\\src\\optimizers\\__init__.py:309: The name tf.train.Optimizer is deprecated. Please use tf.compat.v1.train.Optimizer instead.\n",
      "\n",
      "Model: \"sequential\"\n",
      "_________________________________________________________________\n",
      " Layer (type)                Output Shape              Param #   \n",
      "=================================================================\n",
      " embedding (Embedding)       (None, 73, 64)            3200000   \n",
      "                                                                 \n",
      " lstm (LSTM)                 (None, 256)               328704    \n",
      "                                                                 \n",
      " dense (Dense)               (None, 10)                2570      \n",
      "                                                                 \n",
      " dense_1 (Dense)             (None, 2)                 22        \n",
      "                                                                 \n",
      " dense_2 (Dense)             (None, 1)                 3         \n",
      "                                                                 \n",
      "=================================================================\n",
      "Total params: 3531299 (13.47 MB)\n",
      "Trainable params: 3531299 (13.47 MB)\n",
      "Non-trainable params: 0 (0.00 Byte)\n",
      "_________________________________________________________________\n",
      "None\n"
     ]
    }
   ],
   "source": [
    "# Creates our model\n",
    "\n",
    "model = Sequential() \n",
    "model.add(Embedding(50000, 64, input_length = 73)) # Static\n",
    "tf.keras.layers.GlobalAveragePooling1D() # Static; helps reduce model overfitting\n",
    "model.add(LSTM(256, dropout = 0.2)) # Experimental\n",
    "model.add(Dense(10, input_dim = 1, activation = 'sigmoid')) # Experimental\n",
    "model.add(Dense(2, input_dim = 1, activation = 'sigmoid')) # Experimental\n",
    "model.add(Dense(1, activation = 'sigmoid')) # Experimental\n",
    "model.compile(loss = 'binary_crossentropy', optimizer = 'sgd', metrics = ['accuracy']) # Experimental\n",
    "print(model.summary()) "
   ]
  },
  {
   "cell_type": "code",
   "execution_count": 26,
   "id": "fa6ef2b9-3e6f-4f9c-a1c6-4f8470b3fd94",
   "metadata": {
    "tags": []
   },
   "outputs": [],
   "source": [
    "# Creates an early stop for our model\n",
    "\n",
    "callback = tf.keras.callbacks.EarlyStopping(monitor = 'loss', patience = 3)"
   ]
  },
  {
   "cell_type": "code",
   "execution_count": 27,
   "id": "9b79a48e-f1e1-4565-9ee8-03676f491654",
   "metadata": {
    "tags": []
   },
   "outputs": [
    {
     "name": "stdout",
     "output_type": "stream",
     "text": [
      "Epoch 1/25\n",
      "WARNING:tensorflow:From C:\\Users\\caleb\\anaconda3\\Lib\\site-packages\\keras\\src\\utils\\tf_utils.py:492: The name tf.ragged.RaggedTensorValue is deprecated. Please use tf.compat.v1.ragged.RaggedTensorValue instead.\n",
      "\n",
      "WARNING:tensorflow:From C:\\Users\\caleb\\anaconda3\\Lib\\site-packages\\keras\\src\\engine\\base_layer_utils.py:384: The name tf.executing_eagerly_outside_functions is deprecated. Please use tf.compat.v1.executing_eagerly_outside_functions instead.\n",
      "\n",
      "36/36 [==============================] - 6s 98ms/step - loss: 0.7371 - accuracy: 0.4916 - val_loss: 0.6871 - val_accuracy: 0.5760\n",
      "Epoch 2/25\n",
      "36/36 [==============================] - 4s 100ms/step - loss: 0.7263 - accuracy: 0.4916 - val_loss: 0.6838 - val_accuracy: 0.5760\n",
      "Epoch 3/25\n",
      "36/36 [==============================] - 4s 101ms/step - loss: 0.7177 - accuracy: 0.4916 - val_loss: 0.6822 - val_accuracy: 0.5760\n",
      "Epoch 4/25\n",
      "36/36 [==============================] - 3s 97ms/step - loss: 0.7117 - accuracy: 0.4916 - val_loss: 0.6816 - val_accuracy: 0.5760\n",
      "Epoch 5/25\n",
      "36/36 [==============================] - 3s 96ms/step - loss: 0.7069 - accuracy: 0.4916 - val_loss: 0.6817 - val_accuracy: 0.5760\n",
      "Epoch 6/25\n",
      "36/36 [==============================] - 4s 102ms/step - loss: 0.7036 - accuracy: 0.4916 - val_loss: 0.6821 - val_accuracy: 0.5760\n",
      "Epoch 7/25\n",
      "36/36 [==============================] - 4s 100ms/step - loss: 0.7013 - accuracy: 0.4916 - val_loss: 0.6828 - val_accuracy: 0.5760\n",
      "Epoch 8/25\n",
      "36/36 [==============================] - 4s 100ms/step - loss: 0.6994 - accuracy: 0.4916 - val_loss: 0.6837 - val_accuracy: 0.5760\n",
      "Epoch 9/25\n",
      "36/36 [==============================] - 4s 100ms/step - loss: 0.6978 - accuracy: 0.4916 - val_loss: 0.6847 - val_accuracy: 0.5760\n",
      "Epoch 10/25\n",
      "36/36 [==============================] - 4s 101ms/step - loss: 0.6966 - accuracy: 0.4916 - val_loss: 0.6856 - val_accuracy: 0.5760\n",
      "Epoch 11/25\n",
      "36/36 [==============================] - 4s 101ms/step - loss: 0.6959 - accuracy: 0.4916 - val_loss: 0.6866 - val_accuracy: 0.5760\n",
      "Epoch 12/25\n",
      "36/36 [==============================] - 4s 102ms/step - loss: 0.6952 - accuracy: 0.4916 - val_loss: 0.6876 - val_accuracy: 0.5760\n",
      "Epoch 13/25\n",
      "36/36 [==============================] - 4s 100ms/step - loss: 0.6946 - accuracy: 0.4916 - val_loss: 0.6885 - val_accuracy: 0.5760\n",
      "Epoch 14/25\n",
      "36/36 [==============================] - 4s 99ms/step - loss: 0.6942 - accuracy: 0.4916 - val_loss: 0.6894 - val_accuracy: 0.5760\n",
      "Epoch 15/25\n",
      "36/36 [==============================] - 4s 102ms/step - loss: 0.6939 - accuracy: 0.4916 - val_loss: 0.6900 - val_accuracy: 0.5760\n",
      "Epoch 16/25\n",
      "36/36 [==============================] - 4s 102ms/step - loss: 0.6938 - accuracy: 0.4916 - val_loss: 0.6904 - val_accuracy: 0.5760\n",
      "Epoch 17/25\n",
      "36/36 [==============================] - 4s 100ms/step - loss: 0.6936 - accuracy: 0.4916 - val_loss: 0.6909 - val_accuracy: 0.5760\n",
      "Epoch 18/25\n",
      "36/36 [==============================] - 4s 100ms/step - loss: 0.6935 - accuracy: 0.4916 - val_loss: 0.6914 - val_accuracy: 0.5760\n",
      "Epoch 19/25\n",
      "36/36 [==============================] - 4s 100ms/step - loss: 0.6934 - accuracy: 0.4916 - val_loss: 0.6916 - val_accuracy: 0.5760\n",
      "Epoch 20/25\n",
      "36/36 [==============================] - 4s 102ms/step - loss: 0.6934 - accuracy: 0.4916 - val_loss: 0.6924 - val_accuracy: 0.5760\n",
      "Epoch 21/25\n",
      "36/36 [==============================] - 4s 102ms/step - loss: 0.6933 - accuracy: 0.4916 - val_loss: 0.6927 - val_accuracy: 0.5760\n",
      "Epoch 22/25\n",
      "36/36 [==============================] - 4s 100ms/step - loss: 0.6932 - accuracy: 0.4916 - val_loss: 0.6934 - val_accuracy: 0.4240\n",
      "Epoch 23/25\n",
      "36/36 [==============================] - 4s 102ms/step - loss: 0.6932 - accuracy: 0.4978 - val_loss: 0.6936 - val_accuracy: 0.4240\n",
      "Epoch 24/25\n",
      "36/36 [==============================] - 4s 101ms/step - loss: 0.6932 - accuracy: 0.5084 - val_loss: 0.6938 - val_accuracy: 0.4240\n",
      "Epoch 25/25\n",
      "36/36 [==============================] - 4s 100ms/step - loss: 0.6931 - accuracy: 0.5084 - val_loss: 0.6941 - val_accuracy: 0.4240\n"
     ]
    }
   ],
   "source": [
    "# Fits our data to our model\n",
    "# validation_split corresponds with test split if present\n",
    "# May test with low initial value for 'epochs' and increase value when accuracy scores improve based on preceding model parameters\n",
    "\n",
    "history = model.fit(X_train, y_train, epochs = 25, validation_split = 0.25, batch_size = 32, callbacks = [callback])"
   ]
  },
  {
   "cell_type": "code",
   "execution_count": 28,
   "id": "3d45ee99-9203-4617-866b-055d57b9ec1c",
   "metadata": {
    "tags": []
   },
   "outputs": [
    {
     "name": "stdout",
     "output_type": "stream",
     "text": [
      "Test Loss:  0.6933430433273315\n",
      "Test accuracy:  0.48533332347869873\n"
     ]
    }
   ],
   "source": [
    "# Prints the loss and accuracy scores of our model\n",
    "\n",
    "res = model.evaluate(X_test, y_test, verbose = 0)\n",
    "\n",
    "print ('Test Loss: ', res[0])\n",
    "print ('Test accuracy: ', res[1])"
   ]
  },
  {
   "cell_type": "code",
   "execution_count": 29,
   "id": "645b7af9-a4f2-45e3-acf6-f9b26ac63df8",
   "metadata": {
    "tags": []
   },
   "outputs": [
    {
     "data": {
      "image/png": "[encoded data removed]",
      "text/plain": [
       "<Figure size 640x480 with 1 Axes>"
      ]
     },
     "metadata": {},
     "output_type": "display_data"
    }
   ],
   "source": [
    "# Plots our model accuracy\n",
    "\n",
    "plt.plot(history.history['accuracy'], label = 'Accuracy')\n",
    "plt.plot(history.history['val_accuracy'], label = 'Validation Accuracy')\n",
    "plt.legend()\n",
    "plt.show()"
   ]
  },
  {
   "cell_type": "code",
   "execution_count": 30,
   "id": "e7e4d80a-3f68-48ab-bb6f-8f23be83e53a",
   "metadata": {
    "tags": []
   },
   "outputs": [
    {
     "data": {
      "image/png": "[encoded data removed]",
      "text/plain": [
       "<Figure size 640x480 with 1 Axes>"
      ]
     },
     "metadata": {},
     "output_type": "display_data"
    }
   ],
   "source": [
    "# Plots our model loss\n",
    "\n",
    "plt.plot(history.history['loss'], label = 'Loss')\n",
    "plt.plot(history.history['val_loss'], label = 'Validation Loss')\n",
    "plt.legend()\n",
    "plt.show()"
   ]
  },
  {
   "cell_type": "code",
   "execution_count": 31,
   "id": "bff632ef-92d2-46cb-a5a5-853db748093e",
   "metadata": {
    "tags": []
   },
   "outputs": [],
   "source": [
    "# Defines a function to test the model\n",
    "\n",
    "def predict_sentiment(text):\n",
    "    tw = tokenizer.texts_to_sequences([text])\n",
    "    tw = pad_sequences(tw, maxlen = 73)\n",
    "    prediction = int(model.predict(tw).round().item())\n",
    "    print(\"Predicted label: \", y[prediction])"
   ]
  },
  {
   "cell_type": "code",
   "execution_count": 32,
   "id": "c366c60c-04a6-4498-8cbc-1766c1a504e6",
   "metadata": {
    "tags": []
   },
   "outputs": [
    {
     "name": "stdout",
     "output_type": "stream",
     "text": [
      "1/1 [==============================] - 1s 604ms/step\n",
      "Predicted label:  1\n",
      "1/1 [==============================] - 0s 33ms/step\n",
      "Predicted label:  1\n",
      "1/1 [==============================] - 0s 33ms/step\n",
      "Predicted label:  1\n"
     ]
    }
   ],
   "source": [
    "# Tests the model\n",
    "# Predicted label: 1 indicates the model classifies a test sentence sentiment as positive \n",
    "# Predicted label: 0 indicates the model classifies a test sentence sentiment as negative\n",
    "\n",
    "test_sentence1 = \"I loved this phone charger.\" # Amazon test sentence\n",
    "predict_sentiment(test_sentence1)\n",
    "\n",
    "test_sentence2 = \"This is the worst movie I have ever seen.\" # IMDB test sentence\n",
    "predict_sentiment(test_sentence2)\n",
    "\n",
    "test_sentence3 = \"The spaghetti is great.\" # yelp test sentence\n",
    "predict_sentiment(test_sentence3)"
   ]
  },
  {
   "cell_type": "code",
   "execution_count": 33,
   "id": "7d503180-6d0f-4bb3-9f7f-c39975ab653a",
   "metadata": {},
   "outputs": [],
   "source": [
    "# Saves our model\n",
    "\n",
    "model.save('SAModel.h5')"
   ]
  }
 ],
 "metadata": {
  "kernelspec": {
   "display_name": "Python 3 (ipykernel)",
   "language": "python",
   "name": "python3"
  },
  "language_info": {
   "codemirror_mode": {
    "name": "ipython",
    "version": 3
   },
   "file_extension": ".py",
   "mimetype": "text/x-python",
   "name": "python",
   "nbconvert_exporter": "python",
   "pygments_lexer": "ipython3",
   "version": "3.11.4"
  }
 },
 "nbformat": 4,
 "nbformat_minor": 5
}
